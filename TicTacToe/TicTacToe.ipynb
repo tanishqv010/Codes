{
 "cells": [
  {
   "cell_type": "code",
   "execution_count": 1,
   "id": "daf73cfa-c2fa-4b04-82b2-3c13b17979e1",
   "metadata": {},
   "outputs": [
    {
     "name": "stdin",
     "output_type": "stream",
     "text": [
      "Enter 1 for Single Player, and 2 for Multiplayer :  1\n"
     ]
    },
    {
     "name": "stdout",
     "output_type": "stream",
     "text": [
      "Computer - O vs You - X\n"
     ]
    },
    {
     "name": "stdin",
     "output_type": "stream",
     "text": [
      "Enter to play 1(st) or 2(nd) :  1\n"
     ]
    },
    {
     "name": "stdout",
     "output_type": "stream",
     "text": [
      "\n",
      "\n",
      "\n",
      "Current State of the Board\n",
      "\n",
      "\n",
      "_ _ _ \n",
      "\n",
      "_ _ _ \n",
      "\n",
      "_ _ _ \n",
      "\n"
     ]
    },
    {
     "name": "stdin",
     "output_type": "stream",
     "text": [
      "Enter X's position from [1 to 9] :  3\n"
     ]
    },
    {
     "name": "stdout",
     "output_type": "stream",
     "text": [
      "\n",
      "\n",
      "\n",
      "Current State of the Board\n",
      "\n",
      "\n",
      "_ _ X \n",
      "\n",
      "_ O _ \n",
      "\n",
      "_ _ _ \n",
      "\n"
     ]
    },
    {
     "name": "stdin",
     "output_type": "stream",
     "text": [
      "Enter X's position from [1 to 9] :  7\n"
     ]
    },
    {
     "name": "stdout",
     "output_type": "stream",
     "text": [
      "\n",
      "\n",
      "\n",
      "Current State of the Board\n",
      "\n",
      "\n",
      "_ O X \n",
      "\n",
      "_ O _ \n",
      "\n",
      "X _ _ \n",
      "\n"
     ]
    },
    {
     "name": "stdin",
     "output_type": "stream",
     "text": [
      "Enter X's position from [1 to 9] :  8\n"
     ]
    },
    {
     "name": "stdout",
     "output_type": "stream",
     "text": [
      "\n",
      "\n",
      "\n",
      "Current State of the Board\n",
      "\n",
      "\n",
      "_ O X \n",
      "\n",
      "_ O _ \n",
      "\n",
      "X X O \n",
      "\n"
     ]
    },
    {
     "name": "stdin",
     "output_type": "stream",
     "text": [
      "Enter X's position from [1 to 9] :  1\n"
     ]
    },
    {
     "name": "stdout",
     "output_type": "stream",
     "text": [
      "\n",
      "\n",
      "\n",
      "Current State of the Board\n",
      "\n",
      "\n",
      "X O X \n",
      "\n",
      "O O _ \n",
      "\n",
      "X X O \n",
      "\n"
     ]
    },
    {
     "name": "stdin",
     "output_type": "stream",
     "text": [
      "Enter X's position from [1 to 9] :  6\n"
     ]
    },
    {
     "name": "stdout",
     "output_type": "stream",
     "text": [
      "\n",
      "\n",
      "\n",
      "Current State of the Board\n",
      "\n",
      "\n",
      "X O X \n",
      "\n",
      "O O X \n",
      "\n",
      "X X O \n",
      "\n",
      "Draw!\n"
     ]
    }
   ],
   "source": [
    "def ConstBoard(board):\n",
    "  print(\"\\n\\n\\nCurrent State of the Board\");\n",
    "  for i in range (0, 9):\n",
    "    if(i % 3 == 0):\n",
    "      print(\"\\n\");\n",
    "    if(board[i] == 0):\n",
    "      print('_', end = \" \");\n",
    "    if(board[i] == -1):\n",
    "      print('X', end = \" \");\n",
    "    if(board[i] == 1):\n",
    "      print('O', end = \" \");\n",
    "  print(\"\\n\");\n",
    "\n",
    "def User1Turn(board):\n",
    "  pos = input(\"Enter X's position from [1 to 9] : \");\n",
    "  pos = int(pos);\n",
    "  if(board[pos - 1] != 0):\n",
    "    print(\"Wrong Move!!\");\n",
    "    exit(0);\n",
    "  board[pos - 1] = -1;\n",
    "\n",
    "def User2Turn(board):\n",
    "  pos = input(\"\\n\\nEnter O's position from [1 to 9] : \");\n",
    "  pos = int(pos);\n",
    "  if(board[pos - 1] != 0):\n",
    "    print(\"Wrong Move!!\");\n",
    "    exit(0);\n",
    "  board[pos - 1] = 1;\n",
    "\n",
    "def analyzeboard(board):\n",
    "  cb = [[0, 1, 2], [3, 4, 5], [6, 7, 8], [0, 3, 6], [1, 4, 7], [2, 5, 8], [0, 4, 8], [2, 4, 6]]\n",
    "  for i in range(0, 8):\n",
    "    if(board[cb[i][0]] != 0 and\n",
    "       board[cb[i][0]] == board[cb[i][1]] and\n",
    "       board[cb[i][0]] == board[cb[i][2]]):\n",
    "      return board[cb[i][0]];\n",
    "  return 0;\n",
    "\n",
    "def CompTurn(board):\n",
    "  pos = -1;\n",
    "  value = -2;\n",
    "  for i in range(0, 9):\n",
    "    if(board[i] == 0):\n",
    "      board[i] = 1;\n",
    "      score = -1 * minmax(board, -1);\n",
    "      board[i] = 0;\n",
    "      if(score > value):\n",
    "        value = score;\n",
    "        pos = i;\n",
    "  board[pos] = 1;\n",
    "\n",
    "def minmax(board, player):\n",
    "  x = analyzeboard(board);\n",
    "  if(x != 0):\n",
    "    return x * player;\n",
    "  pos = -1;\n",
    "  value = -2;\n",
    "  for i in range(0, 9):\n",
    "    if(board[i] == 0):\n",
    "      board[i] = player;\n",
    "      score = -1 * minmax(board, (-1 * player));\n",
    "      board[i] = 0;\n",
    "      if(score > value):\n",
    "        value = score;\n",
    "        pos = i;\n",
    "  if(pos == -1):\n",
    "    return 0;\n",
    "  return value;\n",
    "\n",
    "\n",
    "def main():\n",
    "  choice = input(\"Enter 1 for Single Player, and 2 for Multiplayer : \");\n",
    "  choice = int(choice);\n",
    "  board = [0, 0, 0, 0, 0, 0, 0, 0, 0]\n",
    "  if(choice == 1):\n",
    "    print(\"Computer - O vs You - X\");\n",
    "    player = input(\"Enter to play 1(st) or 2(nd) : \");\n",
    "    player = int(player);\n",
    "    for i in range(0, 9):\n",
    "      if(analyzeboard(board) != 0):\n",
    "        break;\n",
    "      if((i + player) % 2 == 0):\n",
    "        CompTurn(board);\n",
    "      else:\n",
    "        ConstBoard(board);\n",
    "        User1Turn(board);\n",
    "  else:\n",
    "    for i in range (0, 9):\n",
    "      if(analyzeboard(board) != 0):\n",
    "        break;\n",
    "      if(i % 2 == 0):\n",
    "        ConstBoard(board);\n",
    "        User1Turn(board);\n",
    "      else:\n",
    "        ConstBoard(board);\n",
    "        User2Turn(board);\n",
    "  x = analyzeboard(board);\n",
    "  if(x == 0):\n",
    "    ConstBoard(board);\n",
    "    print(\"Draw!\");\n",
    "  if(x == -1):\n",
    "    ConstBoard(board);\n",
    "    print(\"Player X Wins!!\");\n",
    "  if(x == 1):\n",
    "    ConstBoard(board);\n",
    "    print(\"Player O Wins!!\");\n",
    "\n",
    "main();"
   ]
  },
  {
   "cell_type": "code",
   "execution_count": null,
   "id": "00152071-35ef-42d0-be0c-ee2debfac00d",
   "metadata": {},
   "outputs": [],
   "source": []
  }
 ],
 "metadata": {
  "kernelspec": {
   "display_name": "Python 3 (ipykernel)",
   "language": "python",
   "name": "python3"
  },
  "language_info": {
   "codemirror_mode": {
    "name": "ipython",
    "version": 3
   },
   "file_extension": ".py",
   "mimetype": "text/x-python",
   "name": "python",
   "nbconvert_exporter": "python",
   "pygments_lexer": "ipython3",
   "version": "3.10.0"
  }
 },
 "nbformat": 4,
 "nbformat_minor": 5
}
