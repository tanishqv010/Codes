{
 "cells": [
  {
   "cell_type": "markdown",
   "id": "b69c02b2-9480-4c87-b217-7ce1d6e6d1e4",
   "metadata": {},
   "source": [
    "Importing the Libraries"
   ]
  },
  {
   "cell_type": "code",
   "execution_count": 1,
   "id": "36aba06c-11b2-4f7d-9b0e-f7873e7cd11c",
   "metadata": {},
   "outputs": [],
   "source": [
    "import tensorflow as tf\n",
    "from keras.preprocessing.image import ImageDataGenerator"
   ]
  },
  {
   "cell_type": "code",
   "execution_count": 2,
   "id": "c04bab3c-4f50-4003-808a-84dae622f79a",
   "metadata": {},
   "outputs": [
    {
     "data": {
      "text/plain": [
       "'2.12.0'"
      ]
     },
     "execution_count": 2,
     "metadata": {},
     "output_type": "execute_result"
    }
   ],
   "source": [
    "tf.__version__"
   ]
  },
  {
   "cell_type": "markdown",
   "id": "4391c7ff-4335-41dc-88a5-96c216a1cbeb",
   "metadata": {},
   "source": [
    "<h3>Part - 1 : Data Preprocessing</h3>"
   ]
  },
  {
   "cell_type": "markdown",
   "id": "97d0ec17-73d9-4d4e-9f5c-078e9e998542",
   "metadata": {},
   "source": [
    "Preprocessing the Training Set"
   ]
  },
  {
   "cell_type": "code",
   "execution_count": 3,
   "id": "38387e9b-b4ea-4d88-9e1e-cc744e97f6b0",
   "metadata": {},
   "outputs": [
    {
     "name": "stdout",
     "output_type": "stream",
     "text": [
      "Found 8000 images belonging to 2 classes.\n"
     ]
    }
   ],
   "source": [
    "train_datagen = ImageDataGenerator(rescale = 1./225, shear_range = 0.2, zoom_range = 0.2, horizontal_flip = True)\n",
    "training_set = train_datagen.flow_from_directory(r'C:\\Users\\hp\\Downloads\\Machine Learning\\GetFreeCourses.Co-Udemy-Machine Learning A-Z™ Python & R in Data Science [2023]\\37 - Convolutional Neural Networks\\345 - dataset\\dataset/training_set', target_size = (64, 64), batch_size = 32, class_mode = 'binary')"
   ]
  },
  {
   "cell_type": "markdown",
   "id": "cfe6be50-2ff2-48f6-b1c6-8fc033cd02e2",
   "metadata": {},
   "source": [
    "Preprocessing the Test Set"
   ]
  },
  {
   "cell_type": "code",
   "execution_count": 4,
   "id": "a83544e8-df97-47ed-bc6c-8c6058e868ed",
   "metadata": {},
   "outputs": [
    {
     "name": "stdout",
     "output_type": "stream",
     "text": [
      "Found 2000 images belonging to 2 classes.\n"
     ]
    }
   ],
   "source": [
    "test_datagen = ImageDataGenerator(rescale = 1./225)\n",
    "test_set = test_datagen.flow_from_directory(r'C:\\Users\\hp\\Downloads\\Machine Learning\\GetFreeCourses.Co-Udemy-Machine Learning A-Z™ Python & R in Data Science [2023]\\37 - Convolutional Neural Networks\\345 - dataset\\dataset/test_set', target_size = (64, 64), batch_size = 32, class_mode = 'binary')"
   ]
  },
  {
   "cell_type": "markdown",
   "id": "a3dce178-91e9-444f-84e5-3d750f5c9194",
   "metadata": {},
   "source": [
    "<h3>Building the CNN</h3>"
   ]
  },
  {
   "cell_type": "markdown",
   "id": "f7530730-b846-4999-9164-72e63a08100e",
   "metadata": {},
   "source": [
    "Initializing the CNN"
   ]
  },
  {
   "cell_type": "code",
   "execution_count": 5,
   "id": "be777a07-cdce-44d0-86da-d13d9de058a4",
   "metadata": {},
   "outputs": [],
   "source": [
    "cnn = tf.keras.models.Sequential()"
   ]
  },
  {
   "cell_type": "markdown",
   "id": "182bb3eb-8409-4391-a5ee-caeff8a030f4",
   "metadata": {},
   "source": [
    "Step - 1 : Convolution"
   ]
  },
  {
   "cell_type": "code",
   "execution_count": 6,
   "id": "0aa2cd25-3898-4aae-9107-69f8dedab811",
   "metadata": {},
   "outputs": [],
   "source": [
    "cnn.add(tf.keras.layers.Conv2D(filters = 32, kernel_size = 3, activation = 'relu', input_shape = [64, 64, 3]))"
   ]
  },
  {
   "cell_type": "markdown",
   "id": "c768092f-80f6-4472-9243-5ec262cc6c10",
   "metadata": {},
   "source": [
    "Step - 2 : Pooling"
   ]
  },
  {
   "cell_type": "code",
   "execution_count": 7,
   "id": "bc0ad144-394b-4a58-b7ca-896a9c3e4123",
   "metadata": {},
   "outputs": [],
   "source": [
    "cnn.add(tf.keras.layers.MaxPool2D(pool_size = 2, strides = 2))"
   ]
  },
  {
   "cell_type": "markdown",
   "id": "295b732e-87a7-4bb9-b720-1f8dbe18fc9c",
   "metadata": {},
   "source": [
    "Adding a Second Convolutional Layer"
   ]
  },
  {
   "cell_type": "code",
   "execution_count": 8,
   "id": "9a6b0a1b-a919-4526-b3c3-de8e3c869ecf",
   "metadata": {},
   "outputs": [],
   "source": [
    "cnn.add(tf.keras.layers.Conv2D(filters = 32, kernel_size = 3, activation = 'relu'))\n",
    "cnn.add(tf.keras.layers.MaxPool2D(pool_size = 2, strides = 2))"
   ]
  },
  {
   "cell_type": "markdown",
   "id": "8f0c458d-903d-4323-b722-5cb9e47563e3",
   "metadata": {},
   "source": [
    "Step - 3 : Flattening"
   ]
  },
  {
   "cell_type": "code",
   "execution_count": 9,
   "id": "63a6a23d-5d2c-4fa1-b871-94dee1f5900b",
   "metadata": {},
   "outputs": [],
   "source": [
    "cnn.add(tf.keras.layers.Flatten())"
   ]
  },
  {
   "cell_type": "markdown",
   "id": "d0866766-c3d7-4865-96eb-4f25a32505c5",
   "metadata": {},
   "source": [
    "Step - 4 : Full Connection"
   ]
  },
  {
   "cell_type": "code",
   "execution_count": 10,
   "id": "66905e9b-a752-4428-af59-fead0857159d",
   "metadata": {},
   "outputs": [],
   "source": [
    "cnn.add(tf.keras.layers.Dense(units = 28, activation = 'relu'))"
   ]
  },
  {
   "cell_type": "markdown",
   "id": "2d4b5d62-7630-439d-ac08-2297d0a7ad5a",
   "metadata": {},
   "source": [
    "Step - 5 : Output Layer"
   ]
  },
  {
   "cell_type": "code",
   "execution_count": 11,
   "id": "1df82b33-d660-4f89-bd4c-624b53c0261a",
   "metadata": {},
   "outputs": [],
   "source": [
    "cnn.add(tf.keras.layers.Dense(units = 1, activation = 'sigmoid'))"
   ]
  },
  {
   "cell_type": "markdown",
   "id": "24cf03a8-1a86-4d2a-99b0-54ffdf816bf2",
   "metadata": {},
   "source": [
    "<h3>Training the CNN</h3>"
   ]
  },
  {
   "cell_type": "markdown",
   "id": "57fa56f5-8ac4-476c-9e55-bacc92128fad",
   "metadata": {},
   "source": [
    "Compiling the CNN"
   ]
  },
  {
   "cell_type": "code",
   "execution_count": 12,
   "id": "a51bd296-3617-4282-bb29-c26cbc60ffbd",
   "metadata": {},
   "outputs": [],
   "source": [
    "cnn.compile(optimizer = 'adam', loss = 'binary_crossentropy', metrics = ['accuracy'])"
   ]
  },
  {
   "cell_type": "markdown",
   "id": "b939325a-c502-4bd4-b464-2700cf88f941",
   "metadata": {},
   "source": [
    "Training the CNN on Training set and evaluating it on the test set"
   ]
  },
  {
   "cell_type": "code",
   "execution_count": 13,
   "id": "9cef6ac0-1334-4b6f-a222-4d7f4abf8c8c",
   "metadata": {},
   "outputs": [
    {
     "name": "stdout",
     "output_type": "stream",
     "text": [
      "Epoch 1/25\n",
      "250/250 [==============================] - 178s 707ms/step - loss: 0.6811 - accuracy: 0.5512 - val_loss: 0.6234 - val_accuracy: 0.6810\n",
      "Epoch 2/25\n",
      "250/250 [==============================] - 40s 162ms/step - loss: 0.6039 - accuracy: 0.6722 - val_loss: 0.5543 - val_accuracy: 0.7240\n",
      "Epoch 3/25\n",
      "250/250 [==============================] - 58s 233ms/step - loss: 0.5622 - accuracy: 0.7084 - val_loss: 0.5409 - val_accuracy: 0.7345\n",
      "Epoch 4/25\n",
      "250/250 [==============================] - 151s 603ms/step - loss: 0.5329 - accuracy: 0.7306 - val_loss: 0.5161 - val_accuracy: 0.7465\n",
      "Epoch 5/25\n",
      "250/250 [==============================] - 41s 165ms/step - loss: 0.5105 - accuracy: 0.7483 - val_loss: 0.5568 - val_accuracy: 0.7265\n",
      "Epoch 6/25\n",
      "250/250 [==============================] - 41s 163ms/step - loss: 0.4977 - accuracy: 0.7550 - val_loss: 0.4882 - val_accuracy: 0.7715\n",
      "Epoch 7/25\n",
      "250/250 [==============================] - 41s 164ms/step - loss: 0.4827 - accuracy: 0.7626 - val_loss: 0.4899 - val_accuracy: 0.7660\n",
      "Epoch 8/25\n",
      "250/250 [==============================] - 43s 170ms/step - loss: 0.4696 - accuracy: 0.7738 - val_loss: 0.4702 - val_accuracy: 0.7820\n",
      "Epoch 9/25\n",
      "250/250 [==============================] - 44s 176ms/step - loss: 0.4557 - accuracy: 0.7840 - val_loss: 0.4966 - val_accuracy: 0.7625\n",
      "Epoch 10/25\n",
      "250/250 [==============================] - 42s 169ms/step - loss: 0.4408 - accuracy: 0.7928 - val_loss: 0.4488 - val_accuracy: 0.7910\n",
      "Epoch 11/25\n",
      "250/250 [==============================] - 42s 168ms/step - loss: 0.4269 - accuracy: 0.7983 - val_loss: 0.4431 - val_accuracy: 0.8035\n",
      "Epoch 12/25\n",
      "250/250 [==============================] - 41s 165ms/step - loss: 0.4272 - accuracy: 0.7974 - val_loss: 0.4657 - val_accuracy: 0.7780\n",
      "Epoch 13/25\n",
      "250/250 [==============================] - 48s 191ms/step - loss: 0.4153 - accuracy: 0.8079 - val_loss: 0.4404 - val_accuracy: 0.7990\n",
      "Epoch 14/25\n",
      "250/250 [==============================] - 40s 161ms/step - loss: 0.4030 - accuracy: 0.8116 - val_loss: 0.4478 - val_accuracy: 0.7930\n",
      "Epoch 15/25\n",
      "250/250 [==============================] - 41s 164ms/step - loss: 0.3919 - accuracy: 0.8171 - val_loss: 0.4446 - val_accuracy: 0.7955\n",
      "Epoch 16/25\n",
      "250/250 [==============================] - 46s 185ms/step - loss: 0.3880 - accuracy: 0.8226 - val_loss: 0.4536 - val_accuracy: 0.7940\n",
      "Epoch 17/25\n",
      "250/250 [==============================] - 41s 163ms/step - loss: 0.3835 - accuracy: 0.8259 - val_loss: 0.4756 - val_accuracy: 0.7825\n",
      "Epoch 18/25\n",
      "250/250 [==============================] - 40s 161ms/step - loss: 0.3743 - accuracy: 0.8264 - val_loss: 0.4307 - val_accuracy: 0.8080\n",
      "Epoch 19/25\n",
      "250/250 [==============================] - 45s 180ms/step - loss: 0.3641 - accuracy: 0.8378 - val_loss: 0.4783 - val_accuracy: 0.7965\n",
      "Epoch 20/25\n",
      "250/250 [==============================] - 44s 175ms/step - loss: 0.3623 - accuracy: 0.8381 - val_loss: 0.4382 - val_accuracy: 0.8165\n",
      "Epoch 21/25\n",
      "250/250 [==============================] - 43s 172ms/step - loss: 0.3523 - accuracy: 0.8420 - val_loss: 0.4312 - val_accuracy: 0.8180\n",
      "Epoch 22/25\n",
      "250/250 [==============================] - 44s 174ms/step - loss: 0.3376 - accuracy: 0.8500 - val_loss: 0.4377 - val_accuracy: 0.8200\n",
      "Epoch 23/25\n",
      "250/250 [==============================] - 41s 164ms/step - loss: 0.3418 - accuracy: 0.8464 - val_loss: 0.4195 - val_accuracy: 0.8185\n",
      "Epoch 24/25\n",
      "250/250 [==============================] - 42s 169ms/step - loss: 0.3286 - accuracy: 0.8501 - val_loss: 0.4553 - val_accuracy: 0.8130\n",
      "Epoch 25/25\n",
      "250/250 [==============================] - 41s 164ms/step - loss: 0.3330 - accuracy: 0.8530 - val_loss: 0.4497 - val_accuracy: 0.8080\n"
     ]
    },
    {
     "data": {
      "text/plain": [
       "<keras.callbacks.History at 0x1f4fb4d86a0>"
      ]
     },
     "execution_count": 13,
     "metadata": {},
     "output_type": "execute_result"
    }
   ],
   "source": [
    "cnn.fit(x = training_set, validation_data = test_set, epochs = 25)"
   ]
  },
  {
   "cell_type": "markdown",
   "id": "7fdc0161-4382-4c0b-b07f-af8e2057aef1",
   "metadata": {},
   "source": [
    "<h3>Making a Singe Prediction</h3>"
   ]
  },
  {
   "cell_type": "code",
   "execution_count": 39,
   "id": "8a28126d-1fcf-4ced-a9f2-0cc0dca8840b",
   "metadata": {},
   "outputs": [
    {
     "name": "stdout",
     "output_type": "stream",
     "text": [
      "1/1 [==============================] - 0s 43ms/step\n",
      "Dog\n"
     ]
    }
   ],
   "source": [
    "import numpy as np\n",
    "from keras.preprocessing import image\n",
    "from keras import utils\n",
    "test_image_1 = utils.load_img(r'C:\\Users\\hp\\Downloads\\Machine Learning\\GetFreeCourses.Co-Udemy-Machine Learning A-Z™ Python & R in Data Science [2023]\\37 - Convolutional Neural Networks\\345 - dataset\\Single Image Test\\Dog.jpg', target_size = (64, 64))\n",
    "test_image_1 = utils.img_to_array(test_image_1)\n",
    "test_image_1 = np.expand_dims(test_image_1, axis = 0)\n",
    "result_1 = cnn.predict(test_image_1)\n",
    "training_set.class_indices\n",
    "if result_1[0][0] == 1:\n",
    "    print('Dog')\n",
    "else:\n",
    "    print('Cat')"
   ]
  },
  {
   "cell_type": "code",
   "execution_count": 38,
   "id": "9fcb73a4-40d8-4684-b5f4-0dba83605c31",
   "metadata": {},
   "outputs": [
    {
     "name": "stdout",
     "output_type": "stream",
     "text": [
      "1/1 [==============================] - 0s 40ms/step\n",
      "Cat\n"
     ]
    }
   ],
   "source": [
    "test_image_2 = utils.load_img(r'C:\\Users\\hp\\Downloads\\Machine Learning\\GetFreeCourses.Co-Udemy-Machine Learning A-Z™ Python & R in Data Science [2023]\\37 - Convolutional Neural Networks\\345 - dataset\\Single Image Test\\cat.jpg', target_size = (64, 64))\n",
    "test_image_2 = utils.img_to_array(test_image_2)\n",
    "test_image_2 = np.expand_dims(test_image_2, axis = 0)\n",
    "result_2 = cnn.predict(test_image_2)\n",
    "training_set.class_indices\n",
    "if result_2[0][0] == 1:\n",
    "    print('Dog')\n",
    "else:\n",
    "    print('Cat')"
   ]
  }
 ],
 "metadata": {
  "kernelspec": {
   "display_name": "Python 3 (ipykernel)",
   "language": "python",
   "name": "python3"
  },
  "language_info": {
   "codemirror_mode": {
    "name": "ipython",
    "version": 3
   },
   "file_extension": ".py",
   "mimetype": "text/x-python",
   "name": "python",
   "nbconvert_exporter": "python",
   "pygments_lexer": "ipython3",
   "version": "3.10.0"
  }
 },
 "nbformat": 4,
 "nbformat_minor": 5
}
