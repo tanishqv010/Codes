{
 "cells": [
  {
   "cell_type": "markdown",
   "id": "b69c02b2-9480-4c87-b217-7ce1d6e6d1e4",
   "metadata": {},
   "source": [
    "Importing the Libraries"
   ]
  },
  {
   "cell_type": "code",
   "execution_count": 1,
   "id": "36aba06c-11b2-4f7d-9b0e-f7873e7cd11c",
   "metadata": {},
   "outputs": [],
   "source": [
    "import tensorflow as tf\n",
    "from keras.preprocessing.image import ImageDataGenerator"
   ]
  },
  {
   "cell_type": "code",
   "execution_count": 2,
   "id": "c04bab3c-4f50-4003-808a-84dae622f79a",
   "metadata": {},
   "outputs": [
    {
     "data": {
      "text/plain": [
       "'2.13.0'"
      ]
     },
     "execution_count": 2,
     "metadata": {},
     "output_type": "execute_result"
    }
   ],
   "source": [
    "tf.__version__"
   ]
  },
  {
   "cell_type": "markdown",
   "id": "4391c7ff-4335-41dc-88a5-96c216a1cbeb",
   "metadata": {},
   "source": [
    "<h3>Part - 1 : Data Preprocessing</h3>"
   ]
  },
  {
   "cell_type": "markdown",
   "id": "97d0ec17-73d9-4d4e-9f5c-078e9e998542",
   "metadata": {},
   "source": [
    "Preprocessing the Training Set"
   ]
  },
  {
   "cell_type": "code",
   "execution_count": 6,
   "id": "38387e9b-b4ea-4d88-9e1e-cc744e97f6b0",
   "metadata": {},
   "outputs": [
    {
     "name": "stdout",
     "output_type": "stream",
     "text": [
      "Found 8000 images belonging to 2 classes.\n"
     ]
    }
   ],
   "source": [
    "train_datagen = ImageDataGenerator(rescale = 1./225, shear_range = 0.2, zoom_range = 0.2, horizontal_flip = True)\n",
    "training_set = train_datagen.flow_from_directory(r'C:\\Users\\HP\\Downloads\\Courses\\ML\\GetFreeCourses.Co-Udemy-Machine Learning A-Z™ Python & R in Data Science [2023]\\37 - Convolutional Neural Networks\\345 - dataset\\dataset/training_set', target_size = (64, 64), batch_size = 32, class_mode = 'binary')"
   ]
  },
  {
   "cell_type": "markdown",
   "id": "cfe6be50-2ff2-48f6-b1c6-8fc033cd02e2",
   "metadata": {},
   "source": [
    "Preprocessing the Test Set"
   ]
  },
  {
   "cell_type": "code",
   "execution_count": 7,
   "id": "a83544e8-df97-47ed-bc6c-8c6058e868ed",
   "metadata": {},
   "outputs": [
    {
     "name": "stdout",
     "output_type": "stream",
     "text": [
      "Found 2000 images belonging to 2 classes.\n"
     ]
    }
   ],
   "source": [
    "test_datagen = ImageDataGenerator(rescale = 1./225)\n",
    "test_set = test_datagen.flow_from_directory(r'C:\\Users\\HP\\Downloads\\Courses\\ML\\GetFreeCourses.Co-Udemy-Machine Learning A-Z™ Python & R in Data Science [2023]\\37 - Convolutional Neural Networks\\345 - dataset\\dataset/test_set', target_size = (64, 64), batch_size = 32, class_mode = 'binary')"
   ]
  },
  {
   "cell_type": "markdown",
   "id": "a3dce178-91e9-444f-84e5-3d750f5c9194",
   "metadata": {},
   "source": [
    "<h3>Building the CNN</h3>"
   ]
  },
  {
   "cell_type": "markdown",
   "id": "f7530730-b846-4999-9164-72e63a08100e",
   "metadata": {},
   "source": [
    "Initializing the CNN"
   ]
  },
  {
   "cell_type": "code",
   "execution_count": 8,
   "id": "be777a07-cdce-44d0-86da-d13d9de058a4",
   "metadata": {},
   "outputs": [],
   "source": [
    "cnn = tf.keras.models.Sequential()"
   ]
  },
  {
   "cell_type": "markdown",
   "id": "182bb3eb-8409-4391-a5ee-caeff8a030f4",
   "metadata": {},
   "source": [
    "Step - 1 : Convolution"
   ]
  },
  {
   "cell_type": "code",
   "execution_count": 9,
   "id": "0aa2cd25-3898-4aae-9107-69f8dedab811",
   "metadata": {},
   "outputs": [],
   "source": [
    "cnn.add(tf.keras.layers.Conv2D(filters = 32, kernel_size = 3, activation = 'relu', input_shape = [64, 64, 3]))"
   ]
  },
  {
   "cell_type": "markdown",
   "id": "c768092f-80f6-4472-9243-5ec262cc6c10",
   "metadata": {},
   "source": [
    "Step - 2 : Pooling"
   ]
  },
  {
   "cell_type": "code",
   "execution_count": 10,
   "id": "bc0ad144-394b-4a58-b7ca-896a9c3e4123",
   "metadata": {},
   "outputs": [],
   "source": [
    "cnn.add(tf.keras.layers.MaxPool2D(pool_size = 2, strides = 2))"
   ]
  },
  {
   "cell_type": "markdown",
   "id": "295b732e-87a7-4bb9-b720-1f8dbe18fc9c",
   "metadata": {},
   "source": [
    "Adding a Second Convolutional Layer"
   ]
  },
  {
   "cell_type": "code",
   "execution_count": 11,
   "id": "9a6b0a1b-a919-4526-b3c3-de8e3c869ecf",
   "metadata": {},
   "outputs": [],
   "source": [
    "cnn.add(tf.keras.layers.Conv2D(filters = 32, kernel_size = 3, activation = 'relu'))\n",
    "cnn.add(tf.keras.layers.MaxPool2D(pool_size = 2, strides = 2))"
   ]
  },
  {
   "cell_type": "markdown",
   "id": "8f0c458d-903d-4323-b722-5cb9e47563e3",
   "metadata": {},
   "source": [
    "Step - 3 : Flattening"
   ]
  },
  {
   "cell_type": "code",
   "execution_count": 12,
   "id": "63a6a23d-5d2c-4fa1-b871-94dee1f5900b",
   "metadata": {},
   "outputs": [],
   "source": [
    "cnn.add(tf.keras.layers.Flatten())"
   ]
  },
  {
   "cell_type": "markdown",
   "id": "d0866766-c3d7-4865-96eb-4f25a32505c5",
   "metadata": {},
   "source": [
    "Step - 4 : Full Connection"
   ]
  },
  {
   "cell_type": "code",
   "execution_count": 13,
   "id": "66905e9b-a752-4428-af59-fead0857159d",
   "metadata": {},
   "outputs": [],
   "source": [
    "cnn.add(tf.keras.layers.Dense(units = 28, activation = 'relu'))"
   ]
  },
  {
   "cell_type": "markdown",
   "id": "2d4b5d62-7630-439d-ac08-2297d0a7ad5a",
   "metadata": {},
   "source": [
    "Step - 5 : Output Layer"
   ]
  },
  {
   "cell_type": "code",
   "execution_count": 14,
   "id": "1df82b33-d660-4f89-bd4c-624b53c0261a",
   "metadata": {},
   "outputs": [],
   "source": [
    "cnn.add(tf.keras.layers.Dense(units = 1, activation = 'sigmoid'))"
   ]
  },
  {
   "cell_type": "markdown",
   "id": "24cf03a8-1a86-4d2a-99b0-54ffdf816bf2",
   "metadata": {},
   "source": [
    "<h3>Training the CNN</h3>"
   ]
  },
  {
   "cell_type": "markdown",
   "id": "57fa56f5-8ac4-476c-9e55-bacc92128fad",
   "metadata": {},
   "source": [
    "Compiling the CNN"
   ]
  },
  {
   "cell_type": "code",
   "execution_count": 15,
   "id": "a51bd296-3617-4282-bb29-c26cbc60ffbd",
   "metadata": {},
   "outputs": [],
   "source": [
    "cnn.compile(optimizer = 'adam', loss = 'binary_crossentropy', metrics = ['accuracy'])"
   ]
  },
  {
   "cell_type": "markdown",
   "id": "b939325a-c502-4bd4-b464-2700cf88f941",
   "metadata": {},
   "source": [
    "Training the CNN on Training set and evaluating it on the test set"
   ]
  },
  {
   "cell_type": "code",
   "execution_count": 21,
   "id": "9cef6ac0-1334-4b6f-a222-4d7f4abf8c8c",
   "metadata": {},
   "outputs": [
    {
     "name": "stdout",
     "output_type": "stream",
     "text": [
      "Epoch 1/100\n",
      "250/250 [==============================] - 39s 155ms/step - loss: 0.3892 - accuracy: 0.8254 - val_loss: 0.4310 - val_accuracy: 0.8000\n",
      "Epoch 2/100\n",
      "250/250 [==============================] - 39s 155ms/step - loss: 0.3811 - accuracy: 0.8284 - val_loss: 0.4635 - val_accuracy: 0.7985\n",
      "Epoch 3/100\n",
      "250/250 [==============================] - 38s 153ms/step - loss: 0.3792 - accuracy: 0.8265 - val_loss: 0.4280 - val_accuracy: 0.8095\n",
      "Epoch 4/100\n",
      "250/250 [==============================] - 39s 154ms/step - loss: 0.3817 - accuracy: 0.8257 - val_loss: 0.4623 - val_accuracy: 0.8020\n",
      "Epoch 5/100\n",
      "250/250 [==============================] - 39s 155ms/step - loss: 0.3677 - accuracy: 0.8342 - val_loss: 0.5309 - val_accuracy: 0.7810\n",
      "Epoch 6/100\n",
      "250/250 [==============================] - 39s 155ms/step - loss: 0.3661 - accuracy: 0.8360 - val_loss: 0.4298 - val_accuracy: 0.8175\n",
      "Epoch 7/100\n",
      "250/250 [==============================] - 39s 155ms/step - loss: 0.3723 - accuracy: 0.8331 - val_loss: 0.4712 - val_accuracy: 0.7835\n",
      "Epoch 8/100\n",
      "250/250 [==============================] - 39s 157ms/step - loss: 0.3625 - accuracy: 0.8353 - val_loss: 0.4338 - val_accuracy: 0.8080\n",
      "Epoch 9/100\n",
      "250/250 [==============================] - 39s 158ms/step - loss: 0.3511 - accuracy: 0.8447 - val_loss: 0.4502 - val_accuracy: 0.8130\n",
      "Epoch 10/100\n",
      "250/250 [==============================] - 40s 159ms/step - loss: 0.3585 - accuracy: 0.8393 - val_loss: 0.4597 - val_accuracy: 0.8015\n",
      "Epoch 11/100\n",
      "250/250 [==============================] - 39s 156ms/step - loss: 0.3475 - accuracy: 0.8491 - val_loss: 0.4280 - val_accuracy: 0.8200\n",
      "Epoch 12/100\n",
      "250/250 [==============================] - 40s 160ms/step - loss: 0.3462 - accuracy: 0.8460 - val_loss: 0.4414 - val_accuracy: 0.8170\n",
      "Epoch 13/100\n",
      "250/250 [==============================] - 39s 156ms/step - loss: 0.3487 - accuracy: 0.8422 - val_loss: 0.4400 - val_accuracy: 0.8135\n",
      "Epoch 14/100\n",
      "250/250 [==============================] - 39s 155ms/step - loss: 0.3435 - accuracy: 0.8428 - val_loss: 0.4021 - val_accuracy: 0.8255\n",
      "Epoch 15/100\n",
      "250/250 [==============================] - 39s 156ms/step - loss: 0.3344 - accuracy: 0.8496 - val_loss: 0.4985 - val_accuracy: 0.7995\n",
      "Epoch 16/100\n",
      "250/250 [==============================] - 39s 155ms/step - loss: 0.3403 - accuracy: 0.8484 - val_loss: 0.4389 - val_accuracy: 0.8115\n",
      "Epoch 17/100\n",
      "250/250 [==============================] - 39s 157ms/step - loss: 0.3362 - accuracy: 0.8521 - val_loss: 0.4318 - val_accuracy: 0.8150\n",
      "Epoch 18/100\n",
      "250/250 [==============================] - 40s 158ms/step - loss: 0.3329 - accuracy: 0.8576 - val_loss: 0.4551 - val_accuracy: 0.8115\n",
      "Epoch 19/100\n",
      "250/250 [==============================] - 39s 157ms/step - loss: 0.3343 - accuracy: 0.8521 - val_loss: 0.4548 - val_accuracy: 0.8210\n",
      "Epoch 20/100\n",
      "250/250 [==============================] - 40s 161ms/step - loss: 0.3298 - accuracy: 0.8547 - val_loss: 0.4641 - val_accuracy: 0.8100\n",
      "Epoch 21/100\n",
      "250/250 [==============================] - 42s 167ms/step - loss: 0.3233 - accuracy: 0.8579 - val_loss: 0.4826 - val_accuracy: 0.7970\n",
      "Epoch 22/100\n",
      "250/250 [==============================] - 39s 156ms/step - loss: 0.3197 - accuracy: 0.8591 - val_loss: 0.4404 - val_accuracy: 0.8135\n",
      "Epoch 23/100\n",
      "250/250 [==============================] - 38s 153ms/step - loss: 0.3222 - accuracy: 0.8600 - val_loss: 0.4796 - val_accuracy: 0.8025\n",
      "Epoch 24/100\n",
      "250/250 [==============================] - 39s 154ms/step - loss: 0.3043 - accuracy: 0.8666 - val_loss: 0.5377 - val_accuracy: 0.7880\n",
      "Epoch 25/100\n",
      "250/250 [==============================] - 39s 154ms/step - loss: 0.3157 - accuracy: 0.8577 - val_loss: 0.4280 - val_accuracy: 0.8280\n",
      "Epoch 26/100\n",
      "250/250 [==============================] - 39s 155ms/step - loss: 0.3163 - accuracy: 0.8645 - val_loss: 0.4478 - val_accuracy: 0.8180\n",
      "Epoch 27/100\n",
      "250/250 [==============================] - 39s 155ms/step - loss: 0.3085 - accuracy: 0.8669 - val_loss: 0.4382 - val_accuracy: 0.8150\n",
      "Epoch 28/100\n",
      "250/250 [==============================] - 39s 156ms/step - loss: 0.3132 - accuracy: 0.8589 - val_loss: 0.4492 - val_accuracy: 0.8245\n",
      "Epoch 29/100\n",
      "250/250 [==============================] - 39s 155ms/step - loss: 0.3169 - accuracy: 0.8640 - val_loss: 0.4323 - val_accuracy: 0.8260\n",
      "Epoch 30/100\n",
      "250/250 [==============================] - 43s 170ms/step - loss: 0.2950 - accuracy: 0.8719 - val_loss: 0.4592 - val_accuracy: 0.8200\n",
      "Epoch 31/100\n",
      "250/250 [==============================] - 47s 187ms/step - loss: 0.3108 - accuracy: 0.8637 - val_loss: 0.4424 - val_accuracy: 0.8215\n",
      "Epoch 32/100\n",
      "250/250 [==============================] - 39s 157ms/step - loss: 0.3033 - accuracy: 0.8696 - val_loss: 0.4489 - val_accuracy: 0.8200\n",
      "Epoch 33/100\n",
      "250/250 [==============================] - 40s 159ms/step - loss: 0.3017 - accuracy: 0.8704 - val_loss: 0.4676 - val_accuracy: 0.8165\n",
      "Epoch 34/100\n",
      "250/250 [==============================] - 39s 156ms/step - loss: 0.2896 - accuracy: 0.8755 - val_loss: 0.4561 - val_accuracy: 0.8170\n",
      "Epoch 35/100\n",
      "250/250 [==============================] - 39s 156ms/step - loss: 0.2970 - accuracy: 0.8709 - val_loss: 0.4526 - val_accuracy: 0.8045\n",
      "Epoch 36/100\n",
      "250/250 [==============================] - 39s 157ms/step - loss: 0.2914 - accuracy: 0.8790 - val_loss: 0.4783 - val_accuracy: 0.8020\n",
      "Epoch 37/100\n",
      "250/250 [==============================] - 39s 154ms/step - loss: 0.2892 - accuracy: 0.8775 - val_loss: 0.4646 - val_accuracy: 0.8265\n",
      "Epoch 38/100\n",
      "250/250 [==============================] - 39s 154ms/step - loss: 0.2976 - accuracy: 0.8741 - val_loss: 0.4473 - val_accuracy: 0.8310\n",
      "Epoch 39/100\n",
      "250/250 [==============================] - 38s 153ms/step - loss: 0.2927 - accuracy: 0.8717 - val_loss: 0.4601 - val_accuracy: 0.8165\n",
      "Epoch 40/100\n",
      "250/250 [==============================] - 39s 155ms/step - loss: 0.2909 - accuracy: 0.8727 - val_loss: 0.4476 - val_accuracy: 0.8215\n",
      "Epoch 41/100\n",
      "250/250 [==============================] - 48s 193ms/step - loss: 0.2828 - accuracy: 0.8780 - val_loss: 0.4317 - val_accuracy: 0.8330\n",
      "Epoch 42/100\n",
      "250/250 [==============================] - 39s 155ms/step - loss: 0.2739 - accuracy: 0.8848 - val_loss: 0.4433 - val_accuracy: 0.8215\n",
      "Epoch 43/100\n",
      "250/250 [==============================] - 39s 155ms/step - loss: 0.2760 - accuracy: 0.8794 - val_loss: 0.5145 - val_accuracy: 0.7975\n",
      "Epoch 44/100\n",
      "250/250 [==============================] - 40s 158ms/step - loss: 0.2781 - accuracy: 0.8808 - val_loss: 0.4639 - val_accuracy: 0.8265\n",
      "Epoch 45/100\n",
      "250/250 [==============================] - 39s 157ms/step - loss: 0.2794 - accuracy: 0.8792 - val_loss: 0.4406 - val_accuracy: 0.8195\n",
      "Epoch 46/100\n",
      "250/250 [==============================] - 39s 155ms/step - loss: 0.2717 - accuracy: 0.8829 - val_loss: 0.4701 - val_accuracy: 0.8195\n",
      "Epoch 47/100\n",
      "250/250 [==============================] - 39s 155ms/step - loss: 0.2701 - accuracy: 0.8851 - val_loss: 0.4583 - val_accuracy: 0.8215\n",
      "Epoch 48/100\n",
      "250/250 [==============================] - 39s 154ms/step - loss: 0.2657 - accuracy: 0.8814 - val_loss: 0.4752 - val_accuracy: 0.8075\n",
      "Epoch 49/100\n",
      "250/250 [==============================] - 39s 155ms/step - loss: 0.2666 - accuracy: 0.8859 - val_loss: 0.4466 - val_accuracy: 0.8190\n",
      "Epoch 50/100\n",
      "250/250 [==============================] - 39s 155ms/step - loss: 0.2626 - accuracy: 0.8878 - val_loss: 0.4892 - val_accuracy: 0.8190\n",
      "Epoch 51/100\n",
      "250/250 [==============================] - 39s 154ms/step - loss: 0.2750 - accuracy: 0.8774 - val_loss: 0.4720 - val_accuracy: 0.8135\n",
      "Epoch 52/100\n",
      "250/250 [==============================] - 38s 154ms/step - loss: 0.2717 - accuracy: 0.8834 - val_loss: 0.4915 - val_accuracy: 0.8070\n",
      "Epoch 53/100\n",
      "250/250 [==============================] - 38s 154ms/step - loss: 0.2633 - accuracy: 0.8878 - val_loss: 0.4491 - val_accuracy: 0.8230\n",
      "Epoch 54/100\n",
      "250/250 [==============================] - 39s 154ms/step - loss: 0.2631 - accuracy: 0.8878 - val_loss: 0.4707 - val_accuracy: 0.8160\n",
      "Epoch 55/100\n",
      "250/250 [==============================] - 39s 155ms/step - loss: 0.2575 - accuracy: 0.8892 - val_loss: 0.4906 - val_accuracy: 0.8060\n",
      "Epoch 56/100\n",
      "250/250 [==============================] - 39s 155ms/step - loss: 0.2613 - accuracy: 0.8916 - val_loss: 0.4876 - val_accuracy: 0.7990\n",
      "Epoch 57/100\n",
      "250/250 [==============================] - 40s 158ms/step - loss: 0.2579 - accuracy: 0.8925 - val_loss: 0.4672 - val_accuracy: 0.8250\n",
      "Epoch 58/100\n",
      "250/250 [==============================] - 39s 157ms/step - loss: 0.2556 - accuracy: 0.8891 - val_loss: 0.4392 - val_accuracy: 0.8250\n",
      "Epoch 59/100\n",
      "250/250 [==============================] - 391s 2s/step - loss: 0.2554 - accuracy: 0.8891 - val_loss: 0.4696 - val_accuracy: 0.8220\n",
      "Epoch 60/100\n",
      "250/250 [==============================] - 39s 155ms/step - loss: 0.2397 - accuracy: 0.8963 - val_loss: 0.5091 - val_accuracy: 0.8055\n",
      "Epoch 61/100\n",
      "250/250 [==============================] - 38s 154ms/step - loss: 0.2360 - accuracy: 0.9004 - val_loss: 0.4600 - val_accuracy: 0.8215\n",
      "Epoch 62/100\n",
      "250/250 [==============================] - 39s 156ms/step - loss: 0.2535 - accuracy: 0.8889 - val_loss: 0.5079 - val_accuracy: 0.8000\n",
      "Epoch 63/100\n",
      "250/250 [==============================] - 39s 155ms/step - loss: 0.2379 - accuracy: 0.8949 - val_loss: 0.5094 - val_accuracy: 0.8115\n",
      "Epoch 64/100\n",
      "250/250 [==============================] - 39s 155ms/step - loss: 0.2264 - accuracy: 0.9039 - val_loss: 0.4936 - val_accuracy: 0.8155\n",
      "Epoch 65/100\n",
      "250/250 [==============================] - 327s 1s/step - loss: 0.2470 - accuracy: 0.8920 - val_loss: 0.4719 - val_accuracy: 0.8155\n",
      "Epoch 66/100\n",
      "250/250 [==============================] - 39s 155ms/step - loss: 0.2299 - accuracy: 0.9020 - val_loss: 0.5203 - val_accuracy: 0.8065\n",
      "Epoch 67/100\n",
      "250/250 [==============================] - 39s 155ms/step - loss: 0.2436 - accuracy: 0.8967 - val_loss: 0.5870 - val_accuracy: 0.7775\n",
      "Epoch 68/100\n",
      "250/250 [==============================] - 38s 154ms/step - loss: 0.2360 - accuracy: 0.9032 - val_loss: 0.4735 - val_accuracy: 0.8245\n",
      "Epoch 69/100\n",
      "250/250 [==============================] - 39s 154ms/step - loss: 0.2275 - accuracy: 0.9030 - val_loss: 0.5491 - val_accuracy: 0.8015\n",
      "Epoch 70/100\n",
      "250/250 [==============================] - 38s 154ms/step - loss: 0.2307 - accuracy: 0.9021 - val_loss: 0.4974 - val_accuracy: 0.8000\n",
      "Epoch 71/100\n",
      "250/250 [==============================] - 39s 154ms/step - loss: 0.2274 - accuracy: 0.9021 - val_loss: 0.5439 - val_accuracy: 0.8035\n",
      "Epoch 72/100\n",
      "250/250 [==============================] - 39s 155ms/step - loss: 0.2266 - accuracy: 0.9019 - val_loss: 0.5108 - val_accuracy: 0.8090\n",
      "Epoch 73/100\n",
      "250/250 [==============================] - 39s 155ms/step - loss: 0.2244 - accuracy: 0.9094 - val_loss: 0.4918 - val_accuracy: 0.8225\n",
      "Epoch 74/100\n",
      "250/250 [==============================] - 39s 156ms/step - loss: 0.2159 - accuracy: 0.9106 - val_loss: 0.5442 - val_accuracy: 0.8140\n",
      "Epoch 75/100\n",
      "250/250 [==============================] - 38s 152ms/step - loss: 0.2238 - accuracy: 0.9053 - val_loss: 0.5612 - val_accuracy: 0.7955\n",
      "Epoch 76/100\n",
      "250/250 [==============================] - 38s 153ms/step - loss: 0.2288 - accuracy: 0.9072 - val_loss: 0.5643 - val_accuracy: 0.8060\n",
      "Epoch 77/100\n",
      "250/250 [==============================] - 39s 154ms/step - loss: 0.2225 - accuracy: 0.9053 - val_loss: 0.5329 - val_accuracy: 0.8185\n",
      "Epoch 78/100\n",
      "250/250 [==============================] - 39s 154ms/step - loss: 0.2187 - accuracy: 0.9089 - val_loss: 0.5159 - val_accuracy: 0.8230\n",
      "Epoch 79/100\n",
      "250/250 [==============================] - 39s 154ms/step - loss: 0.2215 - accuracy: 0.9071 - val_loss: 0.5259 - val_accuracy: 0.8150\n",
      "Epoch 80/100\n",
      "250/250 [==============================] - 39s 155ms/step - loss: 0.2085 - accuracy: 0.9159 - val_loss: 0.6329 - val_accuracy: 0.7880\n",
      "Epoch 81/100\n",
      "250/250 [==============================] - 38s 154ms/step - loss: 0.2155 - accuracy: 0.9060 - val_loss: 0.6296 - val_accuracy: 0.7920\n",
      "Epoch 82/100\n",
      "250/250 [==============================] - 38s 153ms/step - loss: 0.2086 - accuracy: 0.9130 - val_loss: 0.5306 - val_accuracy: 0.8280\n",
      "Epoch 83/100\n",
      "250/250 [==============================] - 38s 153ms/step - loss: 0.2222 - accuracy: 0.9059 - val_loss: 0.5171 - val_accuracy: 0.8165\n",
      "Epoch 84/100\n",
      "250/250 [==============================] - 39s 155ms/step - loss: 0.2161 - accuracy: 0.9094 - val_loss: 0.5149 - val_accuracy: 0.8165\n",
      "Epoch 85/100\n",
      "250/250 [==============================] - 38s 154ms/step - loss: 0.1942 - accuracy: 0.9184 - val_loss: 0.5373 - val_accuracy: 0.8070\n",
      "Epoch 86/100\n",
      "250/250 [==============================] - 38s 153ms/step - loss: 0.2104 - accuracy: 0.9118 - val_loss: 0.5472 - val_accuracy: 0.8165\n",
      "Epoch 87/100\n",
      "250/250 [==============================] - 39s 155ms/step - loss: 0.2069 - accuracy: 0.9130 - val_loss: 0.5122 - val_accuracy: 0.8240\n",
      "Epoch 88/100\n",
      "250/250 [==============================] - 39s 155ms/step - loss: 0.2004 - accuracy: 0.9161 - val_loss: 0.5252 - val_accuracy: 0.8080\n",
      "Epoch 89/100\n",
      "250/250 [==============================] - 43s 173ms/step - loss: 0.1913 - accuracy: 0.9218 - val_loss: 0.5252 - val_accuracy: 0.8210\n",
      "Epoch 90/100\n",
      "250/250 [==============================] - 39s 155ms/step - loss: 0.1968 - accuracy: 0.9185 - val_loss: 0.5434 - val_accuracy: 0.8005\n",
      "Epoch 91/100\n",
      "250/250 [==============================] - 39s 155ms/step - loss: 0.2040 - accuracy: 0.9161 - val_loss: 0.5178 - val_accuracy: 0.8165\n",
      "Epoch 92/100\n",
      "250/250 [==============================] - 39s 157ms/step - loss: 0.2072 - accuracy: 0.9147 - val_loss: 0.5479 - val_accuracy: 0.8180\n",
      "Epoch 93/100\n",
      "250/250 [==============================] - 39s 154ms/step - loss: 0.2066 - accuracy: 0.9158 - val_loss: 0.5374 - val_accuracy: 0.8215\n",
      "Epoch 94/100\n",
      "250/250 [==============================] - 38s 154ms/step - loss: 0.1948 - accuracy: 0.9179 - val_loss: 0.5227 - val_accuracy: 0.8260\n",
      "Epoch 95/100\n",
      "250/250 [==============================] - 39s 155ms/step - loss: 0.1942 - accuracy: 0.9202 - val_loss: 0.5408 - val_accuracy: 0.8135\n",
      "Epoch 96/100\n",
      "250/250 [==============================] - 38s 154ms/step - loss: 0.1983 - accuracy: 0.9146 - val_loss: 0.6394 - val_accuracy: 0.7945\n",
      "Epoch 97/100\n",
      "250/250 [==============================] - 39s 156ms/step - loss: 0.1985 - accuracy: 0.9168 - val_loss: 0.5645 - val_accuracy: 0.8175\n",
      "Epoch 98/100\n",
      "250/250 [==============================] - 38s 154ms/step - loss: 0.2060 - accuracy: 0.9137 - val_loss: 0.5101 - val_accuracy: 0.8250\n",
      "Epoch 99/100\n",
      "250/250 [==============================] - 39s 156ms/step - loss: 0.1929 - accuracy: 0.9210 - val_loss: 0.5212 - val_accuracy: 0.8220\n",
      "Epoch 100/100\n",
      "250/250 [==============================] - 39s 154ms/step - loss: 0.1894 - accuracy: 0.9214 - val_loss: 0.5335 - val_accuracy: 0.8225\n"
     ]
    },
    {
     "data": {
      "text/plain": [
       "<keras.src.callbacks.History at 0x20a5dded150>"
      ]
     },
     "execution_count": 21,
     "metadata": {},
     "output_type": "execute_result"
    }
   ],
   "source": [
    "cnn.fit(x = training_set, validation_data = test_set, epochs = 100)"
   ]
  },
  {
   "cell_type": "markdown",
   "id": "7fdc0161-4382-4c0b-b07f-af8e2057aef1",
   "metadata": {},
   "source": [
    "<h3>Making a Singe Prediction</h3>"
   ]
  },
  {
   "cell_type": "code",
   "execution_count": 20,
   "id": "8a28126d-1fcf-4ced-a9f2-0cc0dca8840b",
   "metadata": {},
   "outputs": [
    {
     "name": "stdout",
     "output_type": "stream",
     "text": [
      "1/1 [==============================] - 0s 49ms/step\n",
      "Dog\n"
     ]
    }
   ],
   "source": [
    "import numpy as np\n",
    "from keras.preprocessing import image\n",
    "from keras import utils\n",
    "test_image_1 = utils.load_img(r'C:\\Users\\HP\\Downloads\\Courses\\ML\\GetFreeCourses.Co-Udemy-Machine Learning A-Z™ Python & R in Data Science [2023]\\37 - Convolutional Neural Networks\\345 - dataset\\Single Image Test\\Dog.jpg', target_size = (64, 64))\n",
    "test_image_1 = utils.img_to_array(test_image_1)\n",
    "test_image_1 = np.expand_dims(test_image_1, axis = 0)\n",
    "result_1 = cnn.predict(test_image_1)\n",
    "training_set.class_indices\n",
    "if result_1[0][0] == 1:\n",
    "    print('Dog')\n",
    "else:\n",
    "    print('Cat')"
   ]
  },
  {
   "cell_type": "code",
   "execution_count": 24,
   "id": "350f4ef4-6250-4e9b-9ebd-f0784c7e811a",
   "metadata": {},
   "outputs": [
    {
     "name": "stdout",
     "output_type": "stream",
     "text": [
      "1/1 [==============================] - 0s 50ms/step\n",
      "Dog\n"
     ]
    }
   ],
   "source": [
    "test_image_2 = utils.load_img(r'C:\\Users\\HP\\Downloads\\Courses\\ML\\GetFreeCourses.Co-Udemy-Machine Learning A-Z™ Python & R in Data Science [2023]\\37 - Convolutional Neural Networks\\345 - dataset\\Single Image Test\\doglikecat.jpg', target_size = (64, 64))\n",
    "test_image_2 = utils.img_to_array(test_image_2)\n",
    "test_image_2 = np.expand_dims(test_image_2, axis = 0)\n",
    "result_2 = cnn.predict(test_image_2)\n",
    "training_set.class_indices\n",
    "if result_2[0][0] == 1:\n",
    "    print('Dog')\n",
    "else:\n",
    "    print('Cat')"
   ]
  },
  {
   "cell_type": "code",
   "execution_count": 28,
   "id": "b7b68a07-52eb-484d-a239-a7f0e62fcec2",
   "metadata": {},
   "outputs": [
    {
     "name": "stdout",
     "output_type": "stream",
     "text": [
      "1/1 [==============================] - 0s 54ms/step\n",
      "Cat\n"
     ]
    }
   ],
   "source": [
    "test_image_2 = utils.load_img(r'C:\\Users\\HP\\Downloads\\Courses\\ML\\GetFreeCourses.Co-Udemy-Machine Learning A-Z™ Python & R in Data Science [2023]\\37 - Convolutional Neural Networks\\345 - dataset\\Single Image Test\\doraemon.jpg', target_size = (64, 64))\n",
    "test_image_2 = utils.img_to_array(test_image_2)\n",
    "test_image_2 = np.expand_dims(test_image_2, axis = 0)\n",
    "result_2 = cnn.predict(test_image_2)\n",
    "training_set.class_indices\n",
    "if result_2[0][0] == 1:\n",
    "    print('Dog')\n",
    "else:\n",
    "    print('Cat')"
   ]
  },
  {
   "cell_type": "code",
   "execution_count": 30,
   "id": "d2f99aa6-e24f-4f6f-a37f-6ee2752e7633",
   "metadata": {},
   "outputs": [
    {
     "name": "stdout",
     "output_type": "stream",
     "text": [
      "1/1 [==============================] - 0s 54ms/step\n",
      "Dog\n"
     ]
    }
   ],
   "source": [
    "test_image_2 = utils.load_img(r'C:\\Users\\HP\\Downloads\\Courses\\ML\\GetFreeCourses.Co-Udemy-Machine Learning A-Z™ Python & R in Data Science [2023]\\37 - Convolutional Neural Networks\\345 - dataset\\Single Image Test\\pranav.jpg', target_size = (64, 64))\n",
    "test_image_2 = utils.img_to_array(test_image_2)\n",
    "test_image_2 = np.expand_dims(test_image_2, axis = 0)\n",
    "result_2 = cnn.predict(test_image_2)\n",
    "training_set.class_indices\n",
    "if result_2[0][0] == 1:\n",
    "    print('Dog')\n",
    "else:\n",
    "    print('Cat')"
   ]
  },
  {
   "cell_type": "code",
   "execution_count": 18,
   "id": "9fcb73a4-40d8-4684-b5f4-0dba83605c31",
   "metadata": {},
   "outputs": [
    {
     "name": "stdout",
     "output_type": "stream",
     "text": [
      "1/1 [==============================] - 0s 52ms/step\n",
      "Cat\n"
     ]
    }
   ],
   "source": [
    "test_image_2 = utils.load_img(r'C:\\Users\\HP\\Downloads\\Courses\\ML\\GetFreeCourses.Co-Udemy-Machine Learning A-Z™ Python & R in Data Science [2023]\\37 - Convolutional Neural Networks\\345 - dataset\\Single Image Test\\Cat.jpg', target_size = (64, 64))\n",
    "test_image_2 = utils.img_to_array(test_image_2)\n",
    "test_image_2 = np.expand_dims(test_image_2, axis = 0)\n",
    "result_2 = cnn.predict(test_image_2)\n",
    "training_set.class_indices\n",
    "if result_2[0][0] == 1:\n",
    "    print('Dog')\n",
    "else:\n",
    "    print('Cat')"
   ]
  }
 ],
 "metadata": {
  "kernelspec": {
   "display_name": "Python 3 (ipykernel)",
   "language": "python",
   "name": "python3"
  },
  "language_info": {
   "codemirror_mode": {
    "name": "ipython",
    "version": 3
   },
   "file_extension": ".py",
   "mimetype": "text/x-python",
   "name": "python",
   "nbconvert_exporter": "python",
   "pygments_lexer": "ipython3",
   "version": "3.10.0"
  }
 },
 "nbformat": 4,
 "nbformat_minor": 5
}
