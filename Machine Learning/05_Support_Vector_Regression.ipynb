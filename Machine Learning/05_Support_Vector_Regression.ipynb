{
 "cells": [
  {
   "cell_type": "markdown",
   "id": "636d754c-7602-45b5-994b-6a8f73e4a10b",
   "metadata": {},
   "source": [
    "Importing the Libraries"
   ]
  },
  {
   "cell_type": "code",
   "execution_count": null,
   "id": "4503a8c8-f039-4f53-a177-8513a2941a0e",
   "metadata": {
    "tags": []
   },
   "outputs": [],
   "source": [
    "import numpy as np\n",
    "import matplotlib.pyplot as plt\n",
    "import pandas as pd"
   ]
  },
  {
   "cell_type": "markdown",
   "id": "f3e2b8b5-a961-4c20-9f43-0b089912ef64",
   "metadata": {},
   "source": [
    "Importing the Dataset"
   ]
  },
  {
   "cell_type": "code",
   "execution_count": null,
   "id": "e7c6a462-06eb-4414-ae9e-31add0151ab7",
   "metadata": {
    "tags": []
   },
   "outputs": [],
   "source": [
    "dataset = pd.read_csv(r'C:\\Users\\hp\\Downloads\\Machine Learning\\Machine Learning A-Z (Codes and Datasets)\\Part 2 - Regression\\Section 7 - Support Vector Regression (SVR)\\Python\\Position_Salaries.csv')\n",
    "X = dataset.iloc[:, 1:-1].values\n",
    "y = dataset.iloc[:, -1].values"
   ]
  },
  {
   "cell_type": "code",
   "execution_count": null,
   "id": "ee2bfb44-7550-479d-9e78-0a7a71d81ff2",
   "metadata": {
    "tags": []
   },
   "outputs": [],
   "source": [
    "print(X)"
   ]
  },
  {
   "cell_type": "code",
   "execution_count": null,
   "id": "487b09d6-7b12-4be1-b21c-cd66a111aed3",
   "metadata": {
    "tags": []
   },
   "outputs": [],
   "source": [
    "print(y)"
   ]
  },
  {
   "cell_type": "code",
   "execution_count": null,
   "id": "4ff97984-1263-44a6-bac4-82686afbbbdf",
   "metadata": {
    "tags": []
   },
   "outputs": [],
   "source": [
    "y = y.reshape(len(y), 1)\n",
    "print(y)"
   ]
  },
  {
   "cell_type": "markdown",
   "id": "607954b1-e466-4ecd-a81a-f38841c391f3",
   "metadata": {},
   "source": [
    "Feature Scaling"
   ]
  },
  {
   "cell_type": "code",
   "execution_count": null,
   "id": "13a6aa01-d2ac-4fb4-9a60-71a1bfb0c951",
   "metadata": {
    "tags": []
   },
   "outputs": [],
   "source": [
    "from sklearn.preprocessing import StandardScaler\n",
    "sc_X = StandardScaler()\n",
    "sc_y = StandardScaler()\n",
    "X = sc_X.fit_transform(X)\n",
    "y = sc_y.fit_transform(y)"
   ]
  },
  {
   "cell_type": "code",
   "execution_count": null,
   "id": "08fd8a93-72ee-442e-a948-6714ef503fb3",
   "metadata": {
    "tags": []
   },
   "outputs": [],
   "source": [
    "print(X)"
   ]
  },
  {
   "cell_type": "code",
   "execution_count": null,
   "id": "42cc1f47-cc45-4d48-b3a0-4ec4473083da",
   "metadata": {
    "tags": []
   },
   "outputs": [],
   "source": [
    "print(y)"
   ]
  },
  {
   "cell_type": "markdown",
   "id": "3ebd4b8b-ba03-4f4b-839a-fe84487df1ca",
   "metadata": {},
   "source": [
    "Training the SVR model on whole dataset"
   ]
  },
  {
   "cell_type": "code",
   "execution_count": null,
   "id": "ac073777-45d0-4763-bdf2-a4c914702166",
   "metadata": {
    "tags": []
   },
   "outputs": [],
   "source": [
    "from sklearn.svm import SVR\n",
    "regressor = SVR(kernel = 'rbf')\n",
    "regressor.fit(X, y)"
   ]
  },
  {
   "cell_type": "markdown",
   "id": "900b3d23-2e4b-42bc-9808-737e0199aa47",
   "metadata": {},
   "source": [
    "Predicting a new result"
   ]
  },
  {
   "cell_type": "code",
   "execution_count": null,
   "id": "56ec3708-d111-48c0-acac-41f3787ab74f",
   "metadata": {
    "tags": []
   },
   "outputs": [],
   "source": [
    "sc_y.inverse_transform(regressor.predict(sc_X.transform([[6.5]])).reshape(-1, 1))"
   ]
  },
  {
   "cell_type": "markdown",
   "id": "82c2eeb3-5e4e-482a-b9f7-438e8c04b72f",
   "metadata": {},
   "source": [
    "Visualising SVR results"
   ]
  },
  {
   "cell_type": "code",
   "execution_count": null,
   "id": "0347be96-f084-499c-9cce-08e332dffa4e",
   "metadata": {
    "tags": []
   },
   "outputs": [],
   "source": [
    "plt.scatter(sc_X.inverse_transform(X), sc_y.inverse_transform(y), color = 'red')\n",
    "plt.plot(sc_X.inverse_transform(X), sc_y.inverse_transform(regressor.predict(X).reshape(-1, 1)), color = 'blue')\n",
    "plt.title('Support Vector Regression')\n",
    "plt.xlabel('Position Index')\n",
    "plt.ylabel('Salary')\n",
    "plt.plot()"
   ]
  },
  {
   "cell_type": "markdown",
   "id": "9b165405-221b-4eae-8849-0b5883bada1b",
   "metadata": {},
   "source": [
    "Visualising SVR results (for higher resolution and smoother curve)"
   ]
  },
  {
   "cell_type": "code",
   "execution_count": null,
   "id": "5f5c44d9-638c-4eb1-a5e9-b3ebab87b78f",
   "metadata": {
    "tags": []
   },
   "outputs": [],
   "source": [
    "X_grid = np.arange(min(sc_X.inverse_transform(X)), max(sc_X.inverse_transform(X)), 0.1)\n",
    "X_grid = X_grid.reshape(len(X_grid), 1)\n",
    "plt.scatter(sc_X.inverse_transform(X), sc_y.inverse_transform(y), color = 'red')\n",
    "plt.plot(X_grid, sc_y.inverse_transform(regressor.predict(sc_X.transform(X_grid)).reshape(-1, 1)), color = 'blue')\n",
    "plt.title('Support Vector Regression')\n",
    "plt.xlabel('Position Index')\n",
    "plt.ylabel('Salary')\n",
    "plt.plot()"
   ]
  },
  {
   "cell_type": "code",
   "execution_count": null,
   "id": "f784f984-7a9e-4da9-910a-a71b3f6680d9",
   "metadata": {},
   "outputs": [],
   "source": []
  }
 ],
 "metadata": {
  "kernelspec": {
   "display_name": "Python 3 (ipykernel)",
   "language": "python",
   "name": "python3"
  },
  "language_info": {
   "codemirror_mode": {
    "name": "ipython",
    "version": 3
   },
   "file_extension": ".py",
   "mimetype": "text/x-python",
   "name": "python",
   "nbconvert_exporter": "python",
   "pygments_lexer": "ipython3",
   "version": "3.10.10"
  }
 },
 "nbformat": 4,
 "nbformat_minor": 5
}
