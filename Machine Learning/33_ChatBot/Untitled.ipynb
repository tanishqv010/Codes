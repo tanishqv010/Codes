{
 "cells": [
  {
   "cell_type": "code",
   "execution_count": 1,
   "id": "53cacb47-4901-4eb2-a1f9-a94ad26b0fdf",
   "metadata": {},
   "outputs": [
    {
     "name": "stderr",
     "output_type": "stream",
     "text": [
      "ERROR: Could not find a version that satisfies the requirement tf-nightly-2.0-review (from versions: none)\n",
      "ERROR: No matching distribution found for tf-nightly-2.0-review\n"
     ]
    }
   ],
   "source": [
    "!pip install tf-nightly-2.0-review"
   ]
  },
  {
   "cell_type": "code",
   "execution_count": 2,
   "id": "91f5bb72-122d-4ed9-864b-ee752580f734",
   "metadata": {},
   "outputs": [
    {
     "name": "stderr",
     "output_type": "stream",
     "text": [
      "'ls' is not recognized as an internal or external command,\n",
      "operable program or batch file.\n"
     ]
    }
   ],
   "source": [
    "!ls -al"
   ]
  },
  {
   "cell_type": "code",
   "execution_count": 3,
   "id": "9784f810-2b8b-40e7-a961-bc53be3566ce",
   "metadata": {},
   "outputs": [
    {
     "name": "stdout",
     "output_type": "stream",
     "text": [
      "Extracting code lines from original notebook\n",
      "INFO line 116:11: Renamed 'tf.contrib.rnn.BasicLSTMCell' to 'tf.compat.v1.nn.rnn_cell.BasicLSTMCell'\n",
      "WARNING line 117:19: Using member tf.contrib.rnn.DropoutWrapper in deprecated module tf.contrib.rnn. (Manual edit required) tf.contrib.rnn.* has been deprecated, and widely used cells/functions will be moved to tensorflow/addons repository. Please check it there and file Github issues if necessary.\n",
      "ERROR line 117:19: Using member tf.contrib.rnn.DropoutWrapper in deprecated module tf.contrib. tf.contrib.rnn.DropoutWrapper cannot be converted automatically. tf.contrib will not be distributed with TensorFlow 2.0, please consider an alternative in non-contrib TensorFlow, a community-maintained repository such as tensorflow/addons, or fork the required code.\n",
      "INFO line 118:19: Renamed 'tf.contrib.rnn.MultiRNNCell' to 'tf.compat.v1.nn.rnn_cell.MultiRNNCell'\n",
      "INFO line 119:36: Renamed 'tf.nn.bidirectional_dynamic_rnn' to 'tf.compat.v1.nn.bidirectional_dynamic_rnn'\n",
      "WARNING line 127:95: Using member tf.contrib.seq2seq.prepare_attention in deprecated module tf.contrib.seq2seq. (Manual edit required) tf.contrib.seq2seq.* have been migrated to `tfa.seq2seq.*` in TensorFlow Addons. Please see https://github.com/tensorflow/addons for more info.\n",
      "ERROR line 127:95: Using member tf.contrib.seq2seq.prepare_attention in deprecated module tf.contrib. tf.contrib.seq2seq.prepare_attention cannot be converted automatically. tf.contrib will not be distributed with TensorFlow 2.0, please consider an alternative in non-contrib TensorFlow, a community-maintained repository such as tensorflow/addons, or fork the required code.\n",
      "WARNING line 128:32: Using member tf.contrib.seq2seq.attention_decoder_fn_train in deprecated module tf.contrib.seq2seq. (Manual edit required) tf.contrib.seq2seq.* have been migrated to `tfa.seq2seq.*` in TensorFlow Addons. Please see https://github.com/tensorflow/addons for more info.\n",
      "ERROR line 128:32: Using member tf.contrib.seq2seq.attention_decoder_fn_train in deprecated module tf.contrib. tf.contrib.seq2seq.attention_decoder_fn_train cannot be converted automatically. tf.contrib will not be distributed with TensorFlow 2.0, please consider an alternative in non-contrib TensorFlow, a community-maintained repository such as tensorflow/addons, or fork the required code.\n",
      "WARNING line 134:71: Using member tf.contrib.seq2seq.dynamic_rnn_decoder in deprecated module tf.contrib.seq2seq. (Manual edit required) tf.contrib.seq2seq.* have been migrated to `tfa.seq2seq.*` in TensorFlow Addons. Please see https://github.com/tensorflow/addons for more info.\n",
      "ERROR line 134:71: Using member tf.contrib.seq2seq.dynamic_rnn_decoder in deprecated module tf.contrib. tf.contrib.seq2seq.dynamic_rnn_decoder cannot be converted automatically. tf.contrib will not be distributed with TensorFlow 2.0, please consider an alternative in non-contrib TensorFlow, a community-maintained repository such as tensorflow/addons, or fork the required code.\n",
      "INFO line 139:29: Changing keep_prob arg of tf.nn.dropout to rate, and recomputing value.\n",
      "\n",
      "WARNING line 143:95: Using member tf.contrib.seq2seq.prepare_attention in deprecated module tf.contrib.seq2seq. (Manual edit required) tf.contrib.seq2seq.* have been migrated to `tfa.seq2seq.*` in TensorFlow Addons. Please see https://github.com/tensorflow/addons for more info.\n",
      "ERROR line 143:95: Using member tf.contrib.seq2seq.prepare_attention in deprecated module tf.contrib. tf.contrib.seq2seq.prepare_attention cannot be converted automatically. tf.contrib will not be distributed with TensorFlow 2.0, please consider an alternative in non-contrib TensorFlow, a community-maintained repository such as tensorflow/addons, or fork the required code.\n",
      "WARNING line 144:28: Using member tf.contrib.seq2seq.attention_decoder_fn_inference in deprecated module tf.contrib.seq2seq. (Manual edit required) tf.contrib.seq2seq.* have been migrated to `tfa.seq2seq.*` in TensorFlow Addons. Please see https://github.com/tensorflow/addons for more info.\n",
      "ERROR line 144:28: Using member tf.contrib.seq2seq.attention_decoder_fn_inference in deprecated module tf.contrib. tf.contrib.seq2seq.attention_decoder_fn_inference cannot be converted automatically. tf.contrib will not be distributed with TensorFlow 2.0, please consider an alternative in non-contrib TensorFlow, a community-maintained repository such as tensorflow/addons, or fork the required code.\n",
      "WARNING line 156:73: Using member tf.contrib.seq2seq.dynamic_rnn_decoder in deprecated module tf.contrib.seq2seq. (Manual edit required) tf.contrib.seq2seq.* have been migrated to `tfa.seq2seq.*` in TensorFlow Addons. Please see https://github.com/tensorflow/addons for more info.\n",
      "ERROR line 156:73: Using member tf.contrib.seq2seq.dynamic_rnn_decoder in deprecated module tf.contrib. tf.contrib.seq2seq.dynamic_rnn_decoder cannot be converted automatically. tf.contrib will not be distributed with TensorFlow 2.0, please consider an alternative in non-contrib TensorFlow, a community-maintained repository such as tensorflow/addons, or fork the required code.\n",
      "INFO line 161:9: Renamed 'tf.variable_scope' to 'tf.compat.v1.variable_scope'\n",
      "INFO line 162:15: Renamed 'tf.contrib.rnn.BasicLSTMCell' to 'tf.compat.v1.nn.rnn_cell.BasicLSTMCell'\n",
      "WARNING line 163:23: Using member tf.contrib.rnn.DropoutWrapper in deprecated module tf.contrib.rnn. (Manual edit required) tf.contrib.rnn.* has been deprecated, and widely used cells/functions will be moved to tensorflow/addons repository. Please check it there and file Github issues if necessary.\n",
      "ERROR line 163:23: Using member tf.contrib.rnn.DropoutWrapper in deprecated module tf.contrib. tf.contrib.rnn.DropoutWrapper cannot be converted automatically. tf.contrib will not be distributed with TensorFlow 2.0, please consider an alternative in non-contrib TensorFlow, a community-maintained repository such as tensorflow/addons, or fork the required code.\n",
      "INFO line 164:23: Renamed 'tf.contrib.rnn.MultiRNNCell' to 'tf.compat.v1.nn.rnn_cell.MultiRNNCell'\n",
      "INFO line 165:18: tf.truncated_normal_initializer requires manual check. Initializers no longer have the dtype argument in the constructor or partition_info argument in the __call__ method.\n",
      "The calls have been converted to compat.v1 for safety (even though they may already have been correct).\n",
      "INFO line 165:18: Renamed 'tf.truncated_normal_initializer' to 'tf.compat.v1.truncated_normal_initializer'\n",
      "ERROR line 167:36: Using member tf.contrib.layers.fully_connected in deprecated module tf.contrib. tf.contrib.layers.fully_connected cannot be converted automatically. tf.contrib will not be distributed with TensorFlow 2.0, please consider an alternative in non-contrib TensorFlow, a community-maintained repository such as tensorflow/addons, or fork the required code.\n",
      "ERROR line 196:29: Using member tf.contrib.layers.embed_sequence in deprecated module tf.contrib. tf.contrib.layers.embed_sequence cannot be converted automatically. tf.contrib will not be distributed with TensorFlow 2.0, please consider an alternative in non-contrib TensorFlow, a community-maintained repository such as tensorflow/addons, or fork the required code.\n",
      "INFO line 199:76: tf.random_uniform_initializer requires manual check. Initializers no longer have the dtype argument in the constructor or partition_info argument in the __call__ method.\n",
      "The calls have been converted to compat.v1 for safety (even though they may already have been correct).\n",
      "INFO line 199:76: Renamed 'tf.random_uniform_initializer' to 'tf.compat.v1.random_uniform_initializer'\n",
      "INFO line 202:44: Renamed 'tf.random_uniform' to 'tf.random.uniform'\n",
      "WARNING line 203:29: tf.nn.embedding_lookup requires manual check. `partition_strategy` has been removed from tf.nn.embedding_lookup.  The 'div' strategy will be used by default.\n",
      "TensorFlow 2.0 Upgrade Script\n",
      "-----------------------------\n",
      "Converted 1 files\n",
      "Detected 19 issues that require attention\n",
      "--------------------------------------------------------------------------------\n",
      "--------------------------------------------------------------------------------\n",
      "File: chatbot.ipynb\n",
      "--------------------------------------------------------------------------------\n",
      "chatbot.ipynb:117:19: WARNING: Using member tf.contrib.rnn.DropoutWrapper in deprecated module tf.contrib.rnn. (Manual edit required) tf.contrib.rnn.* has been deprecated, and widely used cells/functions will be moved to tensorflow/addons repository. Please check it there and file Github issues if necessary.\n",
      "chatbot.ipynb:117:19: ERROR: Using member tf.contrib.rnn.DropoutWrapper in deprecated module tf.contrib. tf.contrib.rnn.DropoutWrapper cannot be converted automatically. tf.contrib will not be distributed with TensorFlow 2.0, please consider an alternative in non-contrib TensorFlow, a community-maintained repository such as tensorflow/addons, or fork the required code.\n",
      "chatbot.ipynb:127:95: WARNING: Using member tf.contrib.seq2seq.prepare_attention in deprecated module tf.contrib.seq2seq. (Manual edit required) tf.contrib.seq2seq.* have been migrated to `tfa.seq2seq.*` in TensorFlow Addons. Please see https://github.com/tensorflow/addons for more info.\n",
      "chatbot.ipynb:127:95: ERROR: Using member tf.contrib.seq2seq.prepare_attention in deprecated module tf.contrib. tf.contrib.seq2seq.prepare_attention cannot be converted automatically. tf.contrib will not be distributed with TensorFlow 2.0, please consider an alternative in non-contrib TensorFlow, a community-maintained repository such as tensorflow/addons, or fork the required code.\n",
      "chatbot.ipynb:128:32: WARNING: Using member tf.contrib.seq2seq.attention_decoder_fn_train in deprecated module tf.contrib.seq2seq. (Manual edit required) tf.contrib.seq2seq.* have been migrated to `tfa.seq2seq.*` in TensorFlow Addons. Please see https://github.com/tensorflow/addons for more info.\n",
      "chatbot.ipynb:128:32: ERROR: Using member tf.contrib.seq2seq.attention_decoder_fn_train in deprecated module tf.contrib. tf.contrib.seq2seq.attention_decoder_fn_train cannot be converted automatically. tf.contrib will not be distributed with TensorFlow 2.0, please consider an alternative in non-contrib TensorFlow, a community-maintained repository such as tensorflow/addons, or fork the required code.\n",
      "chatbot.ipynb:134:71: WARNING: Using member tf.contrib.seq2seq.dynamic_rnn_decoder in deprecated module tf.contrib.seq2seq. (Manual edit required) tf.contrib.seq2seq.* have been migrated to `tfa.seq2seq.*` in TensorFlow Addons. Please see https://github.com/tensorflow/addons for more info.\n",
      "chatbot.ipynb:134:71: ERROR: Using member tf.contrib.seq2seq.dynamic_rnn_decoder in deprecated module tf.contrib. tf.contrib.seq2seq.dynamic_rnn_decoder cannot be converted automatically. tf.contrib will not be distributed with TensorFlow 2.0, please consider an alternative in non-contrib TensorFlow, a community-maintained repository such as tensorflow/addons, or fork the required code.\n",
      "chatbot.ipynb:143:95: WARNING: Using member tf.contrib.seq2seq.prepare_attention in deprecated module tf.contrib.seq2seq. (Manual edit required) tf.contrib.seq2seq.* have been migrated to `tfa.seq2seq.*` in TensorFlow Addons. Please see https://github.com/tensorflow/addons for more info.\n",
      "chatbot.ipynb:143:95: ERROR: Using member tf.contrib.seq2seq.prepare_attention in deprecated module tf.contrib. tf.contrib.seq2seq.prepare_attention cannot be converted automatically. tf.contrib will not be distributed with TensorFlow 2.0, please consider an alternative in non-contrib TensorFlow, a community-maintained repository such as tensorflow/addons, or fork the required code.\n",
      "chatbot.ipynb:144:28: WARNING: Using member tf.contrib.seq2seq.attention_decoder_fn_inference in deprecated module tf.contrib.seq2seq. (Manual edit required) tf.contrib.seq2seq.* have been migrated to `tfa.seq2seq.*` in TensorFlow Addons. Please see https://github.com/tensorflow/addons for more info.\n",
      "chatbot.ipynb:144:28: ERROR: Using member tf.contrib.seq2seq.attention_decoder_fn_inference in deprecated module tf.contrib. tf.contrib.seq2seq.attention_decoder_fn_inference cannot be converted automatically. tf.contrib will not be distributed with TensorFlow 2.0, please consider an alternative in non-contrib TensorFlow, a community-maintained repository such as tensorflow/addons, or fork the required code.\n",
      "chatbot.ipynb:156:73: WARNING: Using member tf.contrib.seq2seq.dynamic_rnn_decoder in deprecated module tf.contrib.seq2seq. (Manual edit required) tf.contrib.seq2seq.* have been migrated to `tfa.seq2seq.*` in TensorFlow Addons. Please see https://github.com/tensorflow/addons for more info.\n",
      "chatbot.ipynb:156:73: ERROR: Using member tf.contrib.seq2seq.dynamic_rnn_decoder in deprecated module tf.contrib. tf.contrib.seq2seq.dynamic_rnn_decoder cannot be converted automatically. tf.contrib will not be distributed with TensorFlow 2.0, please consider an alternative in non-contrib TensorFlow, a community-maintained repository such as tensorflow/addons, or fork the required code.\n",
      "chatbot.ipynb:163:23: WARNING: Using member tf.contrib.rnn.DropoutWrapper in deprecated module tf.contrib.rnn. (Manual edit required) tf.contrib.rnn.* has been deprecated, and widely used cells/functions will be moved to tensorflow/addons repository. Please check it there and file Github issues if necessary.\n",
      "chatbot.ipynb:163:23: ERROR: Using member tf.contrib.rnn.DropoutWrapper in deprecated module tf.contrib. tf.contrib.rnn.DropoutWrapper cannot be converted automatically. tf.contrib will not be distributed with TensorFlow 2.0, please consider an alternative in non-contrib TensorFlow, a community-maintained repository such as tensorflow/addons, or fork the required code.\n",
      "chatbot.ipynb:167:36: ERROR: Using member tf.contrib.layers.fully_connected in deprecated module tf.contrib. tf.contrib.layers.fully_connected cannot be converted automatically. tf.contrib will not be distributed with TensorFlow 2.0, please consider an alternative in non-contrib TensorFlow, a community-maintained repository such as tensorflow/addons, or fork the required code.\n",
      "chatbot.ipynb:196:29: ERROR: Using member tf.contrib.layers.embed_sequence in deprecated module tf.contrib. tf.contrib.layers.embed_sequence cannot be converted automatically. tf.contrib will not be distributed with TensorFlow 2.0, please consider an alternative in non-contrib TensorFlow, a community-maintained repository such as tensorflow/addons, or fork the required code.\n",
      "chatbot.ipynb:203:29: WARNING: tf.nn.embedding_lookup requires manual check. `partition_strategy` has been removed from tf.nn.embedding_lookup.  The 'div' strategy will be used by default.\n",
      "\n",
      "\n",
      "Make sure to read the detailed log 'report.txt'\n",
      "\n"
     ]
    }
   ],
   "source": [
    "!tf_upgrade_v2 --infile chatbot.ipynb --outfile chatbotv2.ipynb"
   ]
  },
  {
   "cell_type": "code",
   "execution_count": null,
   "id": "7769fd16-aa2f-40b2-bc59-9d8b2cda65ac",
   "metadata": {},
   "outputs": [],
   "source": []
  }
 ],
 "metadata": {
  "kernelspec": {
   "display_name": "Python 3 (ipykernel)",
   "language": "python",
   "name": "python3"
  },
  "language_info": {
   "codemirror_mode": {
    "name": "ipython",
    "version": 3
   },
   "file_extension": ".py",
   "mimetype": "text/x-python",
   "name": "python",
   "nbconvert_exporter": "python",
   "pygments_lexer": "ipython3",
   "version": "3.10.0"
  }
 },
 "nbformat": 4,
 "nbformat_minor": 5
}
