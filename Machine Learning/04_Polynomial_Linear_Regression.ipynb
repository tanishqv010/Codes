{
 "cells": [
  {
   "cell_type": "markdown",
   "id": "236023f6-fea8-414f-ad8c-d4f48232e139",
   "metadata": {},
   "source": [
    "Importing the Libraries"
   ]
  },
  {
   "cell_type": "code",
   "execution_count": null,
   "id": "644baec3-398c-4596-9401-a6e4ad01eb7b",
   "metadata": {
    "tags": []
   },
   "outputs": [],
   "source": [
    "import numpy as np\n",
    "import matplotlib.pyplot as plt\n",
    "import pandas as pd"
   ]
  },
  {
   "cell_type": "markdown",
   "id": "4c524d5b-fd1d-4556-afef-0ac6f7540dfa",
   "metadata": {},
   "source": [
    "Importing the Dataset"
   ]
  },
  {
   "cell_type": "code",
   "execution_count": null,
   "id": "6516d819-dd33-4fe0-9dbc-1e904139f92a",
   "metadata": {
    "tags": []
   },
   "outputs": [],
   "source": [
    "dataset = pd.read_csv(r'C:\\Users\\hp\\Downloads\\Machine Learning\\Machine Learning A-Z (Codes and Datasets)\\Part 2 - Regression\\Section 6 - Polynomial Regression\\Python\\Position_Salaries.csv')\n",
    "X = dataset.iloc[:, 1:-1].values\n",
    "y = dataset.iloc[:, -1:].values"
   ]
  },
  {
   "cell_type": "code",
   "execution_count": null,
   "id": "8449ba3f-3d8f-4bbd-96b9-71a22218f37f",
   "metadata": {
    "tags": []
   },
   "outputs": [],
   "source": [
    "print(X)"
   ]
  },
  {
   "cell_type": "code",
   "execution_count": null,
   "id": "de1ced8b-918a-4ad1-9f49-205dc902721a",
   "metadata": {
    "tags": []
   },
   "outputs": [],
   "source": [
    "print(y)"
   ]
  },
  {
   "cell_type": "markdown",
   "id": "8a09168c-3e3c-4a11-b3f4-01cb543346aa",
   "metadata": {},
   "source": [
    "Training the Linear Regression model on the whole data"
   ]
  },
  {
   "cell_type": "code",
   "execution_count": null,
   "id": "1671bb7a-ba34-4a66-95d6-1ec7de055207",
   "metadata": {
    "tags": []
   },
   "outputs": [],
   "source": [
    "from sklearn.linear_model import LinearRegression\n",
    "lin_reg = LinearRegression()\n",
    "lin_reg.fit(X, y)"
   ]
  },
  {
   "cell_type": "markdown",
   "id": "4e3eb4c4-5bb8-4112-bcf6-5bcb481367d5",
   "metadata": {},
   "source": [
    "Training the Polynomial Regression model on the whole data"
   ]
  },
  {
   "cell_type": "code",
   "execution_count": null,
   "id": "4ec10d09-5540-4f8d-b1a2-9243339ac6a2",
   "metadata": {
    "tags": []
   },
   "outputs": [],
   "source": [
    "from sklearn.preprocessing import PolynomialFeatures\n",
    "from sklearn.linear_model import LinearRegression\n",
    "poly_reg = PolynomialFeatures(degree = 4)\n",
    "X_poly = poly_reg.fit_transform(X)\n",
    "lin_reg_2 = LinearRegression()\n",
    "lin_reg_2.fit(X_poly, y)"
   ]
  },
  {
   "cell_type": "markdown",
   "id": "ad47b5ae-0cc6-4bf0-8597-d770406798af",
   "metadata": {},
   "source": [
    "Visualising Linear Regression test results"
   ]
  },
  {
   "cell_type": "code",
   "execution_count": null,
   "id": "d3dcbbc0-a70a-4722-a821-a5150c7ebcb5",
   "metadata": {
    "tags": []
   },
   "outputs": [],
   "source": [
    "plt.scatter(X, y, color = 'red')\n",
    "plt.plot(X, lin_reg.predict(X), color = 'blue')\n",
    "plt.title('Simple Linear Regression')\n",
    "plt.xlabel('Position Index')\n",
    "plt.ylabel('Salary')\n",
    "plt.show()"
   ]
  },
  {
   "cell_type": "markdown",
   "id": "b99fdf00-2e76-43f3-95ac-5ff37e6e2e64",
   "metadata": {
    "tags": []
   },
   "source": [
    "Visualising the polynomial Regression test results"
   ]
  },
  {
   "cell_type": "code",
   "execution_count": null,
   "id": "915745ac-a51d-425b-9f5d-b82467d77316",
   "metadata": {
    "tags": []
   },
   "outputs": [],
   "source": [
    "plt.scatter(X, y, color = 'red')\n",
    "plt.plot(X, lin_reg_2.predict(X_poly), color = 'blue')\n",
    "plt.title('Polynomial Linear Regression')\n",
    "plt.xlabel('Position Index')\n",
    "plt.ylabel('Salary')\n",
    "plt.show()"
   ]
  },
  {
   "cell_type": "markdown",
   "id": "d528f006-9457-48a9-bd4a-69d52979506d",
   "metadata": {
    "tags": []
   },
   "source": [
    "Visualising the polynomial Regression test results (for higher resolution and smoother curve)"
   ]
  },
  {
   "cell_type": "code",
   "execution_count": null,
   "id": "1c06f21d-5525-41bb-a29c-fad8d8b6879e",
   "metadata": {
    "tags": []
   },
   "outputs": [],
   "source": [
    "X_grid = np.arange(min(X), max(X), 0.1)\n",
    "X_grid = X_grid.reshape((len(X_grid), 1))\n",
    "plt.scatter(X, y, color = 'red')\n",
    "plt.plot(X_grid, lin_reg_2.predict(poly_reg.fit_transform(X_grid)), color = 'blue')\n",
    "plt.title('Polynomial Linear Regression')\n",
    "plt.xlabel('Position Index')\n",
    "plt.ylabel('Salary')\n",
    "plt.show()"
   ]
  },
  {
   "cell_type": "markdown",
   "id": "a2210945-3e37-4522-aee0-fea0bcbf0c12",
   "metadata": {},
   "source": [
    "Predicting a new result with Linear Regression model"
   ]
  },
  {
   "cell_type": "code",
   "execution_count": null,
   "id": "651c85d0-44d1-49ca-a45f-5976d390d222",
   "metadata": {
    "tags": []
   },
   "outputs": [],
   "source": [
    "lin_reg.predict([[6.5]])"
   ]
  },
  {
   "cell_type": "markdown",
   "id": "32f47469-e6f2-441a-988d-f239cb16e878",
   "metadata": {},
   "source": [
    "Predicting a new result with Polynomial Regression model"
   ]
  },
  {
   "cell_type": "code",
   "execution_count": null,
   "id": "cb850c1f-4b70-4a81-baa9-3f8ee248c112",
   "metadata": {
    "tags": []
   },
   "outputs": [],
   "source": [
    "lin_reg_2.predict(poly_reg.fit_transform([[6.5]]))"
   ]
  }
 ],
 "metadata": {
  "kernelspec": {
   "display_name": "Python 3 (ipykernel)",
   "language": "python",
   "name": "python3"
  },
  "language_info": {
   "codemirror_mode": {
    "name": "ipython",
    "version": 3
   },
   "file_extension": ".py",
   "mimetype": "text/x-python",
   "name": "python",
   "nbconvert_exporter": "python",
   "pygments_lexer": "ipython3",
   "version": "3.10.10"
  }
 },
 "nbformat": 4,
 "nbformat_minor": 5
}
