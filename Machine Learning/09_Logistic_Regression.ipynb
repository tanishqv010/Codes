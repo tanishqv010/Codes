{
 "cells": [
  {
   "cell_type": "markdown",
   "id": "8de436e9-52df-4bad-a065-a5c54495deac",
   "metadata": {},
   "source": [
    "Importing the Libraries"
   ]
  },
  {
   "cell_type": "code",
   "execution_count": null,
   "id": "a9d35d01-9025-4b0b-bae4-3c91fee86c59",
   "metadata": {
    "tags": []
   },
   "outputs": [],
   "source": [
    "import numpy as np\n",
    "import matplotlib.pyplot as plt\n",
    "import pandas as pd"
   ]
  },
  {
   "cell_type": "markdown",
   "id": "b1f8439f-6f58-4c6c-8597-d2a95e69ce27",
   "metadata": {},
   "source": [
    "Importing the Dataset"
   ]
  },
  {
   "cell_type": "code",
   "execution_count": null,
   "id": "332ad934-5331-4c9f-867a-43b9f7c282b7",
   "metadata": {
    "tags": []
   },
   "outputs": [],
   "source": [
    "dataset = pd.read_csv(r'C:\\Users\\hp\\Downloads\\Machine Learning\\Machine Learning A-Z (Codes and Datasets)\\Part 3 - Classification\\Section 14 - Logistic Regression\\Python\\Social_Network_Ads.csv')\n",
    "X = dataset.iloc[:, :-1].values\n",
    "y = dataset.iloc[:, -1].values"
   ]
  },
  {
   "cell_type": "markdown",
   "id": "6754e415-4b90-4914-86f8-5f3f4cd866ac",
   "metadata": {},
   "source": [
    "Splitting the Dataset into the Training set and the Test set"
   ]
  },
  {
   "cell_type": "code",
   "execution_count": null,
   "id": "55237fe3-6199-48ee-acbf-02f66ac3a217",
   "metadata": {
    "tags": []
   },
   "outputs": [],
   "source": [
    "from sklearn.model_selection import train_test_split\n",
    "X_train, X_test, y_train, y_test = train_test_split(X, y, test_size = 0.25, random_state = 0)"
   ]
  },
  {
   "cell_type": "markdown",
   "id": "9e6ef40a-9f20-43f4-a149-0709425c41b3",
   "metadata": {},
   "source": [
    "Feature Scaling"
   ]
  },
  {
   "cell_type": "code",
   "execution_count": null,
   "id": "63e8b450-87c4-490a-8318-8a2d38f8c3eb",
   "metadata": {
    "tags": []
   },
   "outputs": [],
   "source": [
    "from sklearn.preprocessing import StandardScaler\n",
    "sc = StandardScaler()\n",
    "X_train = sc.fit_transform(X_train)\n",
    "X_test = sc.transform(X_test)"
   ]
  },
  {
   "cell_type": "markdown",
   "id": "537531be-ae67-4864-a290-9eac519fa7bb",
   "metadata": {},
   "source": [
    "Training the Logistic Regression model on the Training set"
   ]
  },
  {
   "cell_type": "code",
   "execution_count": null,
   "id": "2e32095f-91fb-48ef-8c3b-f8ad841393a8",
   "metadata": {
    "tags": []
   },
   "outputs": [],
   "source": [
    "from sklearn.linear_model import LogisticRegression\n",
    "classifier = LogisticRegression(random_state = 0)\n",
    "classifier.fit(X_train, y_train)"
   ]
  },
  {
   "cell_type": "markdown",
   "id": "70fb7073-6ef8-4e5d-b203-e00350fbe898",
   "metadata": {},
   "source": [
    "Prdicting a new result"
   ]
  },
  {
   "cell_type": "code",
   "execution_count": null,
   "id": "fa34c5f3-0a71-4865-a1a1-0bb2038b2c79",
   "metadata": {
    "tags": []
   },
   "outputs": [],
   "source": [
    "print(classifier.predict(sc.transform([[30, 87000]])))"
   ]
  },
  {
   "cell_type": "markdown",
   "id": "f55ee3b3-b5b7-4e09-9ba8-72bf2d648bea",
   "metadata": {},
   "source": [
    "Predicting the Test set results"
   ]
  },
  {
   "cell_type": "code",
   "execution_count": null,
   "id": "e50d89d6-98d4-4e00-afa8-d571bee9aeb3",
   "metadata": {
    "tags": []
   },
   "outputs": [],
   "source": [
    "y_pred = classifier.predict(X_test)\n",
    "print(np.concatenate((y_pred.reshape(len(y_pred), 1), y_test.reshape(len(y_test), 1)), 1))"
   ]
  },
  {
   "cell_type": "markdown",
   "id": "a292693f-29d3-4aa6-9ed4-8bce4cd7607f",
   "metadata": {},
   "source": [
    "Making the Confusion Matrix and finding accuracy score"
   ]
  },
  {
   "cell_type": "code",
   "execution_count": null,
   "id": "e8e9ffbd-0c4d-463c-954f-2952903453f5",
   "metadata": {
    "tags": []
   },
   "outputs": [],
   "source": [
    "from sklearn.metrics import confusion_matrix, accuracy_score\n",
    "cm = confusion_matrix(y_test, y_pred)\n",
    "print(cm)\n",
    "score = accuracy_score(y_test, y_pred)\n",
    "print(score)"
   ]
  }
 ],
 "metadata": {
  "kernelspec": {
   "display_name": "Python 3 (ipykernel)",
   "language": "python",
   "name": "python3"
  },
  "language_info": {
   "codemirror_mode": {
    "name": "ipython",
    "version": 3
   },
   "file_extension": ".py",
   "mimetype": "text/x-python",
   "name": "python",
   "nbconvert_exporter": "python",
   "pygments_lexer": "ipython3",
   "version": "3.10.0"
  }
 },
 "nbformat": 4,
 "nbformat_minor": 5
}
