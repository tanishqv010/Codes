{
 "cells": [
  {
   "cell_type": "markdown",
   "id": "0819e5e8-3d44-41ef-9ad6-44494fb24ab5",
   "metadata": {},
   "source": [
    "Importing th Libraries"
   ]
  },
  {
   "cell_type": "code",
   "execution_count": 11,
   "id": "ed3829d3-a98e-423f-a362-efec041b9fd1",
   "metadata": {},
   "outputs": [],
   "source": [
    "import numpy as np\n",
    "import matplotlib.pyplot as plt\n",
    "import pandas as pd"
   ]
  },
  {
   "cell_type": "markdown",
   "id": "d79ce96b-acc2-4a7c-9ecc-ca264a13222d",
   "metadata": {},
   "source": [
    "Importing the Dataset"
   ]
  },
  {
   "cell_type": "code",
   "execution_count": 12,
   "id": "3c230f74-3063-495c-9150-648bad90acbd",
   "metadata": {},
   "outputs": [],
   "source": [
    "dataset = pd.read_csv(r'C:\\Users\\hp\\Downloads\\Machine Learning\\Machine Learning A-Z (Codes and Datasets)\\Part 10 - Model Selection and Boosting\\Section 49 - XGBoost\\Python\\Data.csv')\n",
    "X = dataset.iloc[:, : -1].values\n",
    "y = dataset.iloc[:, -1].values"
   ]
  },
  {
   "cell_type": "markdown",
   "id": "70d66a48-4ead-4e16-bf22-e4d67e07ae7b",
   "metadata": {},
   "source": [
    "Splitting the Dataset into the Training Set and the Test Set"
   ]
  },
  {
   "cell_type": "code",
   "execution_count": 13,
   "id": "44b98f24-a33c-4fce-ba25-31957e6ce0fe",
   "metadata": {},
   "outputs": [],
   "source": [
    "from sklearn.model_selection import train_test_split\n",
    "X_train, X_test, y_train, y_test = train_test_split(X, y, test_size = 0.2, random_state = 0)"
   ]
  },
  {
   "cell_type": "markdown",
   "id": "d3f3fe89-499c-4ee2-b881-eb6cdee97b53",
   "metadata": {},
   "source": [
    "Training the XGBoost Model on the Training Set"
   ]
  },
  {
   "cell_type": "code",
   "execution_count": 14,
   "id": "48f5ed97-7e32-479e-b11c-7c3d39ee6c18",
   "metadata": {},
   "outputs": [],
   "source": [
    "from xgboost import XGBClassifier\n",
    "classifier = XGBClassifier()\n",
    "classifier.fit(X_train, y_train)\n",
    "y_pred = classifier.predict(X_test)"
   ]
  },
  {
   "cell_type": "markdown",
   "id": "9b93da1b-f838-4397-bfa7-9ea913f357aa",
   "metadata": {},
   "source": [
    "Making Confusion Matrix and Finding the Accuracy Score"
   ]
  },
  {
   "cell_type": "code",
   "execution_count": 15,
   "id": "e780ceb7-acfd-477b-9221-905cee17c6c8",
   "metadata": {},
   "outputs": [
    {
     "name": "stdout",
     "output_type": "stream",
     "text": [
      "[[83  3]\n",
      " [ 0 51]]\n",
      "0.9781021897810219\n"
     ]
    }
   ],
   "source": [
    "from sklearn.metrics import confusion_matrix, accuracy_score\n",
    "cm = confusion_matrix(y_test, y_pred)\n",
    "print(cm)\n",
    "score = accuracy_score(y_test, y_pred)\n",
    "print(score)"
   ]
  },
  {
   "cell_type": "markdown",
   "id": "3d66a69c-132a-4402-8ffa-016a372202c0",
   "metadata": {},
   "source": [
    "Applying k-Fold Cross Validation"
   ]
  },
  {
   "cell_type": "code",
   "execution_count": 24,
   "id": "15c4af76-e88f-49e0-b863-e5e8318a458a",
   "metadata": {},
   "outputs": [
    {
     "name": "stdout",
     "output_type": "stream",
     "text": [
      "Accuracy : 95.79 %\n",
      "Standard Deviation : 2.46 %\n"
     ]
    }
   ],
   "source": [
    "from sklearn.model_selection import cross_val_score\n",
    "accuracies = cross_val_score(estimator = classifier, X = X_train, y = y_train, cv = 10)\n",
    "print('Accuracy : {:.2f} %'.format(accuracies.mean() * 100))\n",
    "print('Standard Deviation : {:.2f} %'.format(accuracies.std() * 100))"
   ]
  }
 ],
 "metadata": {
  "kernelspec": {
   "display_name": "Python 3 (ipykernel)",
   "language": "python",
   "name": "python3"
  },
  "language_info": {
   "codemirror_mode": {
    "name": "ipython",
    "version": 3
   },
   "file_extension": ".py",
   "mimetype": "text/x-python",
   "name": "python",
   "nbconvert_exporter": "python",
   "pygments_lexer": "ipython3",
   "version": "3.10.0"
  }
 },
 "nbformat": 4,
 "nbformat_minor": 5
}
