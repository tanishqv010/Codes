{
 "cells": [
  {
   "cell_type": "code",
   "execution_count": null,
   "id": "731fdd49-23a9-4e23-add4-1807fd365eb3",
   "metadata": {},
   "outputs": [
    {
     "name": "stdin",
     "output_type": "stream",
     "text": [
      " 1 2 3 4\n"
     ]
    }
   ],
   "source": [
    "import matplotlib.pyplot as plt\n",
    "a = input().split() # Taking input in list a\n",
    "x0 = int(a[0]) # Initial abscissa\n",
    "y0 = int(a[1]) # Initial ordinate\n",
    "xl = int(a[2]) # Final abscissa\n",
    "yl = int(a[3]) # Final ordinate\n",
    "dx = x0 - xl if x0 > xl else xl - x0 # Total change in abscissa\n",
    "dy = y0 - yl if y0 > yl else yl - y0 # Total change in ordinate\n",
    "m = dy/dx\n",
    "X = [x0]\n",
    "Y = [y0]\n",
    "while((xl != X[-1]) or (yl != Y[-1])):\n",
    "    if m < 1:\n",
    "        P = 2 * dy - dx\n",
    "        if P < 0:\n",
    "            X.append(X[-1] + 1)\n",
    "            Y.append(Y[-1])\n",
    "            P += 2 * dy\n",
    "        else:\n",
    "            X.append(X[-1] + 1)\n",
    "            Y.append(Y[-1] + 1)\n",
    "            P += 2 * dy - 2 * dx\n",
    "    elif m > 1:\n",
    "        P = 2 * dx - dy\n",
    "        if P < 0:\n",
    "            X.append(X[-1])\n",
    "            Y.append(Y[-1] + 1)\n",
    "            P += 2 * dx\n",
    "        else:\n",
    "            X.append(X[-1] + 1)\n",
    "            Y.append(Y[-1] + 1)\n",
    "            P += 2 * dx - 2 * dy\n",
    "plt.plot(X, Y) # Plotting the straight line\n",
    "plt.xlabel('x-axis')\n",
    "plt.ylabel('y-axis')\n",
    "plt.title('Plotting of Straight line using Breshanham Algorithm')\n",
    "plt.grid()\n",
    "plt.show() # Showing the plot"
   ]
  },
  {
   "cell_type": "code",
   "execution_count": null,
   "id": "6afcf563-8d2f-4dda-a2a3-6023710da125",
   "metadata": {},
   "outputs": [],
   "source": []
  }
 ],
 "metadata": {
  "kernelspec": {
   "display_name": "Python 3 (ipykernel)",
   "language": "python",
   "name": "python3"
  },
  "language_info": {
   "codemirror_mode": {
    "name": "ipython",
    "version": 3
   },
   "file_extension": ".py",
   "mimetype": "text/x-python",
   "name": "python",
   "nbconvert_exporter": "python",
   "pygments_lexer": "ipython3",
   "version": "3.10.0"
  }
 },
 "nbformat": 4,
 "nbformat_minor": 5
}
