{
 "cells": [
  {
   "cell_type": "markdown",
   "id": "22bc4a56-14c9-416e-b94e-1f9133546476",
   "metadata": {},
   "source": [
    "<h2>Importing the Libraries</h2>"
   ]
  },
  {
   "cell_type": "code",
   "execution_count": 1,
   "id": "70b2cda9-838a-49f4-8e15-bbbd47335da2",
   "metadata": {},
   "outputs": [],
   "source": [
    "import numpy as np\n",
    "import matplotlib.pyplot as plt\n",
    "import pandas as pd"
   ]
  },
  {
   "cell_type": "markdown",
   "id": "e9a8e36f-6e1a-4895-97f0-6b8954d902c4",
   "metadata": {},
   "source": [
    "<h2>Taking Input Rx and Ry from the User</h2>"
   ]
  },
  {
   "cell_type": "code",
   "execution_count": 2,
   "id": "0529151d-0f02-4ead-b6b4-1e311a5ff527",
   "metadata": {},
   "outputs": [
    {
     "name": "stdin",
     "output_type": "stream",
     "text": [
      "Enter the values of rx and ry :  6 7\n"
     ]
    }
   ],
   "source": [
    "rx, ry = [float(x) for x in input(\"Enter the values of rx and ry : \").split()]\n",
    "X = [0]\n",
    "Y = [ry]\n",
    "P = [ry ** 2 - ry * rx ** 2 + 0.25 * rx ** 2]\n",
    "dx = [2 * X[-1] * ry ** 2]\n",
    "dy = [2 * Y[-1] * rx ** 2]"
   ]
  },
  {
   "cell_type": "markdown",
   "id": "2d106f58-0679-4839-b6fd-ccc180560692",
   "metadata": {},
   "source": [
    "<h2>Finding Points in Upper Region</h2>"
   ]
  },
  {
   "cell_type": "code",
   "execution_count": 3,
   "id": "dc7f29c0-b083-46b5-9754-903668e6f02f",
   "metadata": {},
   "outputs": [
    {
     "data": {
      "text/plain": [
       "190.0"
      ]
     },
     "execution_count": 3,
     "metadata": {},
     "output_type": "execute_result"
    }
   ],
   "source": [
    "while(dx[-1] < dy[-1]):\n",
    "    X.append(X[-1] + 1)\n",
    "    if(P[-1] < 0):\n",
    "        Y.append(Y[-1])\n",
    "        dx.append(dx[-1] + 2 * ry ** 2)\n",
    "        dy.append(dy[-1])\n",
    "        P.append(P[-1] + dx[-1] + ry ** 2)\n",
    "    else:\n",
    "        Y.append(Y[-1] - 1)\n",
    "        dx.append(dx[-1] + 2 * ry ** 2)\n",
    "        dy.append(dy[-1] - 2 * rx ** 2)\n",
    "        P.append(P[-1] + dx[-1] - dy[-1] + ry ** 2)\n",
    "P.pop()"
   ]
  },
  {
   "cell_type": "markdown",
   "id": "ac160518-5f74-45c8-946f-1f9b02ceac47",
   "metadata": {},
   "source": [
    "<h2>Finding Points in Lower Region</h2>"
   ]
  },
  {
   "cell_type": "code",
   "execution_count": 4,
   "id": "715cfe83-b883-4226-8bbf-b4173cdd394a",
   "metadata": {},
   "outputs": [],
   "source": [
    "P.append((X[-1] + 0.5) ** 2 * ry ** 2 + rx ** 2 * (Y[-1] - 1) ** 2 - rx ** 2 * ry ** 2)\n",
    "while(Y[-1] > 0):\n",
    "    Y.append(Y[-1] - 1)\n",
    "    dy.append(dy[-1] - 2 * rx ** 2)\n",
    "    if(P[-1] > 0):\n",
    "        X.append(X[-1])\n",
    "        dx.append(dx[-1])\n",
    "        P.append(P[-1] - dy[-1] + rx ** 2)\n",
    "    else:\n",
    "        X.append(X[-1] + 1)\n",
    "        dx.append(dx[-1] + 2 * ry ** 2)\n",
    "        P.append(P[-1] - dy[-1] + dx[-1] + rx ** 2)"
   ]
  },
  {
   "cell_type": "markdown",
   "id": "88e7d5ec-1e4f-4900-89ee-d82f05521f6a",
   "metadata": {},
   "source": [
    "<h2>Making the Data Suitable for Display</h2>"
   ]
  },
  {
   "cell_type": "code",
   "execution_count": 5,
   "id": "a6e68506-e073-40c2-8115-9e2d5cd13429",
   "metadata": {},
   "outputs": [
    {
     "data": {
      "text/html": [
       "<div>\n",
       "<style scoped>\n",
       "    .dataframe tbody tr th:only-of-type {\n",
       "        vertical-align: middle;\n",
       "    }\n",
       "\n",
       "    .dataframe tbody tr th {\n",
       "        vertical-align: top;\n",
       "    }\n",
       "\n",
       "    .dataframe thead th {\n",
       "        text-align: right;\n",
       "    }\n",
       "</style>\n",
       "<table border=\"1\" class=\"dataframe\">\n",
       "  <thead>\n",
       "    <tr style=\"text-align: right;\">\n",
       "      <th></th>\n",
       "      <th>x(k)</th>\n",
       "      <th>y(k)</th>\n",
       "      <th>p</th>\n",
       "      <th>x(k+1)</th>\n",
       "      <th>y(k+1)</th>\n",
       "      <th>dx</th>\n",
       "      <th>dy</th>\n",
       "    </tr>\n",
       "  </thead>\n",
       "  <tbody>\n",
       "    <tr>\n",
       "      <th>0</th>\n",
       "      <td>0</td>\n",
       "      <td>7.0</td>\n",
       "      <td>-194.00</td>\n",
       "      <td>1.0</td>\n",
       "      <td>7.0</td>\n",
       "      <td>0.0</td>\n",
       "      <td>504.0</td>\n",
       "    </tr>\n",
       "    <tr>\n",
       "      <th>1</th>\n",
       "      <td>1</td>\n",
       "      <td>7.0</td>\n",
       "      <td>-47.00</td>\n",
       "      <td>2.0</td>\n",
       "      <td>7.0</td>\n",
       "      <td>98.0</td>\n",
       "      <td>504.0</td>\n",
       "    </tr>\n",
       "    <tr>\n",
       "      <th>2</th>\n",
       "      <td>2</td>\n",
       "      <td>7.0</td>\n",
       "      <td>198.00</td>\n",
       "      <td>3.0</td>\n",
       "      <td>6.0</td>\n",
       "      <td>196.0</td>\n",
       "      <td>504.0</td>\n",
       "    </tr>\n",
       "    <tr>\n",
       "      <th>3</th>\n",
       "      <td>3</td>\n",
       "      <td>6.0</td>\n",
       "      <td>109.00</td>\n",
       "      <td>4.0</td>\n",
       "      <td>5.0</td>\n",
       "      <td>294.0</td>\n",
       "      <td>432.0</td>\n",
       "    </tr>\n",
       "    <tr>\n",
       "      <th>4</th>\n",
       "      <td>4</td>\n",
       "      <td>5.0</td>\n",
       "      <td>-195.75</td>\n",
       "      <td>5.0</td>\n",
       "      <td>4.0</td>\n",
       "      <td>392.0</td>\n",
       "      <td>360.0</td>\n",
       "    </tr>\n",
       "    <tr>\n",
       "      <th>5</th>\n",
       "      <td>5</td>\n",
       "      <td>4.0</td>\n",
       "      <td>42.25</td>\n",
       "      <td>5.0</td>\n",
       "      <td>3.0</td>\n",
       "      <td>490.0</td>\n",
       "      <td>288.0</td>\n",
       "    </tr>\n",
       "    <tr>\n",
       "      <th>6</th>\n",
       "      <td>5</td>\n",
       "      <td>3.0</td>\n",
       "      <td>-137.75</td>\n",
       "      <td>6.0</td>\n",
       "      <td>2.0</td>\n",
       "      <td>490.0</td>\n",
       "      <td>216.0</td>\n",
       "    </tr>\n",
       "    <tr>\n",
       "      <th>7</th>\n",
       "      <td>6</td>\n",
       "      <td>2.0</td>\n",
       "      <td>342.25</td>\n",
       "      <td>6.0</td>\n",
       "      <td>1.0</td>\n",
       "      <td>588.0</td>\n",
       "      <td>144.0</td>\n",
       "    </tr>\n",
       "    <tr>\n",
       "      <th>8</th>\n",
       "      <td>6</td>\n",
       "      <td>1.0</td>\n",
       "      <td>306.25</td>\n",
       "      <td>6.0</td>\n",
       "      <td>0.0</td>\n",
       "      <td>588.0</td>\n",
       "      <td>72.0</td>\n",
       "    </tr>\n",
       "    <tr>\n",
       "      <th>9</th>\n",
       "      <td>6</td>\n",
       "      <td>0.0</td>\n",
       "      <td>342.25</td>\n",
       "      <td>NaN</td>\n",
       "      <td>NaN</td>\n",
       "      <td>588.0</td>\n",
       "      <td>0.0</td>\n",
       "    </tr>\n",
       "  </tbody>\n",
       "</table>\n",
       "</div>"
      ],
      "text/plain": [
       "   x(k)  y(k)       p  x(k+1)  y(k+1)     dx     dy\n",
       "0     0   7.0 -194.00     1.0     7.0    0.0  504.0\n",
       "1     1   7.0  -47.00     2.0     7.0   98.0  504.0\n",
       "2     2   7.0  198.00     3.0     6.0  196.0  504.0\n",
       "3     3   6.0  109.00     4.0     5.0  294.0  432.0\n",
       "4     4   5.0 -195.75     5.0     4.0  392.0  360.0\n",
       "5     5   4.0   42.25     5.0     3.0  490.0  288.0\n",
       "6     5   3.0 -137.75     6.0     2.0  490.0  216.0\n",
       "7     6   2.0  342.25     6.0     1.0  588.0  144.0\n",
       "8     6   1.0  306.25     6.0     0.0  588.0   72.0\n",
       "9     6   0.0  342.25     NaN     NaN  588.0    0.0"
      ]
     },
     "execution_count": 5,
     "metadata": {},
     "output_type": "execute_result"
    }
   ],
   "source": [
    "_X = X[1:];\n",
    "_X.append(np.nan);\n",
    "_Y = Y[1:];\n",
    "_Y.append(np.nan);\n",
    "data = {'x(k)' : X, 'y(k)' : Y, 'p' : P, 'x(k+1)' : _X, 'y(k+1)' : _Y, 'dx' : dx, 'dy' : dy};\n",
    "df = pd.DataFrame(data = data);\n",
    "df"
   ]
  },
  {
   "cell_type": "markdown",
   "id": "71d488c3-4c91-4ab0-93f0-f4e89a41cd10",
   "metadata": {},
   "source": [
    "<h2>Plotting in First Quadrant</h2>"
   ]
  },
  {
   "cell_type": "code",
   "execution_count": 6,
   "id": "4ea3fb56-89bd-4c5e-8c2c-bade1f02e0a1",
   "metadata": {},
   "outputs": [
    {
     "data": {
      "image/png": "[encoded data removed]",
      "text/plain": [
       "<Figure size 640x480 with 1 Axes>"
      ]
     },
     "metadata": {},
     "output_type": "display_data"
    }
   ],
   "source": [
    "plt.plot(X, Y)\n",
    "plt.xlabel('x-axis')\n",
    "plt.ylabel('y-axis')\n",
    "plt.title('Plotting of Ellipse using Mid Point Ellipse Algorithm')\n",
    "plt.grid()\n",
    "plt.show()"
   ]
  },
  {
   "cell_type": "markdown",
   "id": "f1a97781-ef4d-4ddb-b403-3cbec4cfe928",
   "metadata": {},
   "source": [
    "<h2>Plotting the Whole Ellipse</h2>"
   ]
  },
  {
   "cell_type": "code",
   "execution_count": 7,
   "id": "a0ab4daf-c254-452c-b246-6f985e64f2bc",
   "metadata": {},
   "outputs": [],
   "source": [
    "X_1 = [i for i in X]\n",
    "X_2 = [-i for i in X]\n",
    "X_2.reverse()\n",
    "X_3 = [-i for i in X]\n",
    "X_4 = [i for i in X]\n",
    "X_4.reverse()\n",
    "X = X_1 + X_4 + X_3 + X_2\n",
    "Y_1 = [i for i in Y]\n",
    "Y_2 = [i for i in Y]\n",
    "Y_2.reverse()\n",
    "Y_3 = [-i for i in Y]\n",
    "Y_4 = [-i for i in Y]\n",
    "Y_4.reverse()\n",
    "Y = Y_1 + Y_4 + Y_3 + Y_2"
   ]
  },
  {
   "cell_type": "code",
   "execution_count": 8,
   "id": "cc1fc5ef-f869-4384-8a17-b3597496ef3b",
   "metadata": {},
   "outputs": [
    {
     "data": {
      "image/png": "[encoded data removed]",
      "text/plain": [
       "<Figure size 640x480 with 1 Axes>"
      ]
     },
     "metadata": {},
     "output_type": "display_data"
    }
   ],
   "source": [
    "plt.plot(X, Y)\n",
    "plt.xlabel('x-axis')\n",
    "plt.ylabel('y-axis')\n",
    "plt.title('Plotting of Ellipse using Mid Point Ellipse Algorithm')\n",
    "plt.grid()\n",
    "plt.show()"
   ]
  }
 ],
 "metadata": {
  "kernelspec": {
   "display_name": "Python 3 (ipykernel)",
   "language": "python",
   "name": "python3"
  },
  "language_info": {
   "codemirror_mode": {
    "name": "ipython",
    "version": 3
   },
   "file_extension": ".py",
   "mimetype": "text/x-python",
   "name": "python",
   "nbconvert_exporter": "python",
   "pygments_lexer": "ipython3",
   "version": "3.10.0"
  }
 },
 "nbformat": 4,
 "nbformat_minor": 5
}
